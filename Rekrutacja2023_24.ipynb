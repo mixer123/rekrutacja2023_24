{
 "cells": [
  {
   "cell_type": "code",
   "execution_count": null,
   "id": "ac11b0b0",
   "metadata": {},
   "outputs": [],
   "source": [
    "import pandas as pd\n",
    "import numpy as np\n",
    "import ipywidgets as widgets\n",
    "# from ipywidgets import interact, interact_manual"
   ]
  },
  {
   "cell_type": "code",
   "execution_count": null,
   "id": "87c03941",
   "metadata": {},
   "outputs": [],
   "source": [
    "# %pip install --upgrade pip\n",
    "# %pip install ipywidgets\n",
    "# jupyter nbextension install --user --py widgetsnbextension\n"
   ]
  },
  {
   "cell_type": "code",
   "execution_count": null,
   "id": "978ac6e1",
   "metadata": {},
   "outputs": [],
   "source": [
    "df = pd.read_excel('rekrutacja.xlsx', sheet_name=0)"
   ]
  },
  {
   "cell_type": "code",
   "execution_count": null,
   "id": "9ff2a78b",
   "metadata": {},
   "outputs": [],
   "source": [
    "df.imie2 = df.imie2[df.imie2.isnull()==False]"
   ]
  },
  {
   "cell_type": "code",
   "execution_count": null,
   "id": "9d10ade1",
   "metadata": {},
   "outputs": [],
   "source": [
    "df = df.loc[df[\"Pesel\"].isnull()==False]"
   ]
  },
  {
   "cell_type": "code",
   "execution_count": null,
   "id": "506ca878",
   "metadata": {},
   "outputs": [],
   "source": [
    "df = df.astype({\"Pesel\": int})"
   ]
  },
  {
   "cell_type": "code",
   "execution_count": null,
   "id": "96959101",
   "metadata": {},
   "outputs": [],
   "source": [
    "def add_zero(number):\n",
    "    return '0'+str(number)"
   ]
  },
  {
   "cell_type": "code",
   "execution_count": null,
   "id": "cc254223",
   "metadata": {},
   "outputs": [],
   "source": [
    "df['Pesel'] = df['Pesel'].apply(add_zero)"
   ]
  },
  {
   "cell_type": "code",
   "execution_count": null,
   "id": "caff746f",
   "metadata": {},
   "outputs": [],
   "source": [
    "df.columns"
   ]
  },
  {
   "cell_type": "code",
   "execution_count": null,
   "id": "54c3550c",
   "metadata": {},
   "outputs": [],
   "source": [
    "df['imie2'].loc[df['imie2'].isnull()]=''"
   ]
  },
  {
   "cell_type": "code",
   "execution_count": null,
   "id": "50e09b92",
   "metadata": {},
   "outputs": [],
   "source": [
    "df['swiadectwo'].replace({'TAK': 7, 'NIE':0},inplace=True)"
   ]
  },
  {
   "cell_type": "code",
   "execution_count": null,
   "id": "49c63ab8",
   "metadata": {},
   "outputs": [],
   "source": [
    "list_subjects = ['J.polski', 'Matematyka', 'J.obcy']\n",
    "list_subjects1 = ['J.obcy']"
   ]
  },
  {
   "cell_type": "code",
   "execution_count": null,
   "id": "e3594771",
   "metadata": {},
   "outputs": [],
   "source": [
    "for sub in list_subjects:\n",
    "    df[sub]= df[sub]*0.35\n",
    "df[list_subjects1]= df[list_subjects1]*0.3"
   ]
  },
  {
   "cell_type": "code",
   "execution_count": null,
   "id": "71685cf8",
   "metadata": {},
   "outputs": [],
   "source": [
    "for sub in list_subjects:\n",
    "    df[sub][df[sub].isnull()]=0"
   ]
  },
  {
   "cell_type": "code",
   "execution_count": null,
   "id": "7db85315",
   "metadata": {},
   "outputs": [],
   "source": [
    "dict_marks = {2:2,3:8,4:14,5:17,6:18}\n",
    "col_subjects=df.columns[11:15]"
   ]
  },
  {
   "cell_type": "code",
   "execution_count": null,
   "id": "b6646a4c",
   "metadata": {},
   "outputs": [],
   "source": [
    "col_subjects"
   ]
  },
  {
   "cell_type": "code",
   "execution_count": null,
   "id": "15604a40",
   "metadata": {},
   "outputs": [],
   "source": [
    "for sub in col_subjects:\n",
    "    df.replace({sub: dict_marks},inplace=True)"
   ]
  },
  {
   "cell_type": "code",
   "execution_count": null,
   "id": "170f8031",
   "metadata": {},
   "outputs": [],
   "source": [
    "df.columns"
   ]
  },
  {
   "cell_type": "code",
   "execution_count": null,
   "id": "492fab3f",
   "metadata": {},
   "outputs": [],
   "source": [
    "df['pkt'] = df[df.columns[8:]].sum(axis=1)"
   ]
  },
  {
   "cell_type": "markdown",
   "id": "e98f58b9",
   "metadata": {},
   "source": [
    "### Kontrolny podgląd bazy "
   ]
  },
  {
   "cell_type": "code",
   "execution_count": null,
   "id": "c8121f3e",
   "metadata": {},
   "outputs": [],
   "source": [
    "df"
   ]
  },
  {
   "cell_type": "markdown",
   "id": "880f95cc",
   "metadata": {},
   "source": [
    "<b><font size=\"+3\" color=\"red\">Oryginały</b>"
   ]
  },
  {
   "cell_type": "markdown",
   "id": "a5901189",
   "metadata": {},
   "source": [
    "### Lista oryginałów"
   ]
  },
  {
   "cell_type": "code",
   "execution_count": null,
   "id": "3117f37e",
   "metadata": {},
   "outputs": [],
   "source": [
    "try:\n",
    "    df['Nazwisko'] = df['Nazwisko'].str.capitalize()\n",
    "    df[df.Oryginal=='oryginał'].sort_values(by='pkt', ascending=False)\n",
    "except:\n",
    "    print('Błąd')\n",
    "    "
   ]
  },
  {
   "cell_type": "code",
   "execution_count": null,
   "id": "766979a2",
   "metadata": {},
   "outputs": [],
   "source": [
    "df_oryg = df[df.Oryginal=='oryginał'].sort_values(by='pkt', ascending=False)"
   ]
  },
  {
   "cell_type": "code",
   "execution_count": null,
   "id": "18129ca6",
   "metadata": {},
   "outputs": [],
   "source": [
    "value_list = list(df_oryg['Zawód/klasa'].unique())"
   ]
  },
  {
   "cell_type": "markdown",
   "id": "f63c52e7",
   "metadata": {},
   "source": [
    "### Ilość oryginałów"
   ]
  },
  {
   "cell_type": "code",
   "execution_count": null,
   "id": "4ee231c8",
   "metadata": {},
   "outputs": [],
   "source": [
    "df_oryg.groupby('Zawód/klasa').count()[['lp']].rename(columns={\"lp\": \"ilość oryginałów\"})"
   ]
  },
  {
   "cell_type": "markdown",
   "id": "806d82b4",
   "metadata": {},
   "source": [
    "### Podział na klasy"
   ]
  },
  {
   "cell_type": "code",
   "execution_count": null,
   "id": "5e9fcdfe",
   "metadata": {},
   "outputs": [],
   "source": [
    "from IPython.display import display, HTML\n",
    "\n",
    "css = \"\"\"\n",
    ".output {\n",
    "    flex-direction: column;\n",
    "}\n",
    "\"\"\"\n",
    "HTML('<style>{}</style>'.format(css))"
   ]
  },
  {
   "cell_type": "code",
   "execution_count": null,
   "id": "51052767",
   "metadata": {},
   "outputs": [],
   "source": [
    "list_col=['Nazwisko','imie1','imie2','Pesel','Zawód/klasa','pkt','Oryginal']"
   ]
  },
  {
   "cell_type": "code",
   "execution_count": null,
   "id": "8141335a",
   "metadata": {},
   "outputs": [],
   "source": [
    "for val in value_list:    \n",
    "    df_oryg[df_oryg['Zawód/klasa']==val].loc[:,list_col].to_html('oryginal/'+str(val)+'.html', index=False)\n",
    "    display(df_oryg[df_oryg['Zawód/klasa']==val].loc[:,list_col])    "
   ]
  },
  {
   "cell_type": "markdown",
   "id": "e194b47d",
   "metadata": {},
   "source": [
    "<b><font size=\"+3\" color=\"red\">Kopie</b>"
   ]
  },
  {
   "cell_type": "markdown",
   "id": "c5cd831f",
   "metadata": {},
   "source": [
    "## Lista kopii\n"
   ]
  },
  {
   "cell_type": "code",
   "execution_count": null,
   "id": "a40bcfb8",
   "metadata": {},
   "outputs": [],
   "source": [
    "df[df.Oryginal=='kopia'].sort_values(by='pkt', ascending=False).loc[:,list_col]"
   ]
  },
  {
   "cell_type": "markdown",
   "id": "9349e6c2",
   "metadata": {},
   "source": [
    "### Ilość kopii"
   ]
  },
  {
   "cell_type": "code",
   "execution_count": null,
   "id": "a72d9e25",
   "metadata": {},
   "outputs": [],
   "source": [
    "df_kopia = df[df.Oryginal=='kopia']\n",
    "value_list = list(df_kopia['Zawód/klasa'].unique())\n",
    "df_kopia.groupby('Zawód/klasa').count()[['lp']].rename(columns={\"lp\": \"ilość kopii\"})"
   ]
  },
  {
   "cell_type": "markdown",
   "id": "52b73ef2",
   "metadata": {},
   "source": [
    "### Podział na klasy"
   ]
  },
  {
   "cell_type": "code",
   "execution_count": null,
   "id": "a9453623",
   "metadata": {},
   "outputs": [],
   "source": [
    "for val in value_list:      \n",
    "    df_kopia[df_kopia['Zawód/klasa']==val].loc[:,list_col].to_html('kopia/'+str(val)+'.html', index=False)\n",
    "    display(df_kopia[df_kopia['Zawód/klasa']==val].loc[:,list_col])    "
   ]
  },
  {
   "cell_type": "markdown",
   "id": "f977b86f",
   "metadata": {},
   "source": [
    "<b><font size=\"+3\" color=\"red\">Wyszukiwanie</b>"
   ]
  },
  {
   "cell_type": "markdown",
   "id": "5e281473",
   "metadata": {},
   "source": [
    "### Wg nazwiska"
   ]
  },
  {
   "cell_type": "code",
   "execution_count": null,
   "id": "27a90bef",
   "metadata": {},
   "outputs": [],
   "source": [
    "try:\n",
    "    nazwisko = input('Podaj nazwisko:').capitalize()\n",
    "    df['Nazwisko'] =  df['Nazwisko'].str.capitalize()   \n",
    "    df1 = df[df['Nazwisko'].str.startswith(nazwisko)]\n",
    "except:\n",
    "    print('Nie podałeś nazwiska')"
   ]
  },
  {
   "cell_type": "code",
   "execution_count": null,
   "id": "a9a1a489",
   "metadata": {},
   "outputs": [],
   "source": [
    "try:\n",
    "    print(df1.loc[:,list_col])\n",
    "except NameError:\n",
    "    print('Nie podałeś nazwiska')"
   ]
  },
  {
   "cell_type": "markdown",
   "id": "6dff8625",
   "metadata": {},
   "source": [
    "## Wg pesel"
   ]
  },
  {
   "cell_type": "code",
   "execution_count": null,
   "id": "e46d57dc",
   "metadata": {},
   "outputs": [],
   "source": [
    "try:\n",
    "    pesel = input('Podaj pesel:')\n",
    "    df2 = df[df['Pesel'].str.startswith(pesel, na=None)]\n",
    "except:\n",
    "    print('Nie podałeś nr pesel')"
   ]
  },
  {
   "cell_type": "code",
   "execution_count": null,
   "id": "78c52c02",
   "metadata": {},
   "outputs": [],
   "source": [
    "try:\n",
    "    print(df2.loc[:,list_col])\n",
    "except NameError:\n",
    "    print('Nie podałeś nr pesel')"
   ]
  },
  {
   "cell_type": "code",
   "execution_count": null,
   "id": "670c3b21",
   "metadata": {},
   "outputs": [],
   "source": []
  },
  {
   "cell_type": "code",
   "execution_count": null,
   "id": "a32bcde2",
   "metadata": {},
   "outputs": [],
   "source": []
  },
  {
   "cell_type": "code",
   "execution_count": null,
   "id": "28681855",
   "metadata": {},
   "outputs": [],
   "source": []
  }
 ],
 "metadata": {
  "celltoolbar": "Raw Cell Format",
  "kernelspec": {
   "display_name": "Python 3 (ipykernel)",
   "language": "python",
   "name": "python3"
  },
  "language_info": {
   "codemirror_mode": {
    "name": "ipython",
    "version": 3
   },
   "file_extension": ".py",
   "mimetype": "text/x-python",
   "name": "python",
   "nbconvert_exporter": "python",
   "pygments_lexer": "ipython3",
   "version": "3.9.13"
  }
 },
 "nbformat": 4,
 "nbformat_minor": 5
}
