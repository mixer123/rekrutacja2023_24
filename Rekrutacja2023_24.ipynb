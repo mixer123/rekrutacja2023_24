{
 "cells": [
  {
   "cell_type": "code",
   "execution_count": 43,
   "id": "ac11b0b0",
   "metadata": {},
   "outputs": [],
   "source": [
    "import pandas as pd\n",
    "import numpy as np\n",
    "import ipywidgets as widgets\n",
    "# from ipywidgets import interact, interact_manual"
   ]
  },
  {
   "cell_type": "code",
   "execution_count": 44,
   "id": "87c03941",
   "metadata": {},
   "outputs": [],
   "source": [
    "# %pip install --upgrade pip\n",
    "# %pip install ipywidgets\n",
    "# jupyter nbextension install --user --py widgetsnbextension\n"
   ]
  },
  {
   "cell_type": "code",
   "execution_count": 45,
   "id": "978ac6e1",
   "metadata": {},
   "outputs": [],
   "source": [
    "df = pd.read_excel('rekrutacja.xlsx', sheet_name=0)"
   ]
  },
  {
   "cell_type": "code",
   "execution_count": 46,
   "id": "9ff2a78b",
   "metadata": {},
   "outputs": [],
   "source": [
    "df.imie2 = df.imie2[df.imie2.isnull()==False]"
   ]
  },
  {
   "cell_type": "code",
   "execution_count": 47,
   "id": "9d10ade1",
   "metadata": {},
   "outputs": [],
   "source": [
    "df = df.loc[df[\"Pesel\"].isnull()==False]"
   ]
  },
  {
   "cell_type": "code",
   "execution_count": 48,
   "id": "506ca878",
   "metadata": {},
   "outputs": [],
   "source": [
    "df = df.astype({\"Pesel\": int})"
   ]
  },
  {
   "cell_type": "code",
   "execution_count": 49,
   "id": "96959101",
   "metadata": {},
   "outputs": [],
   "source": [
    "def add_zero(number):\n",
    "    return '0'+str(number)"
   ]
  },
  {
   "cell_type": "code",
   "execution_count": 50,
   "id": "cc254223",
   "metadata": {},
   "outputs": [],
   "source": [
    "df['Pesel'] = df['Pesel'].apply(add_zero)"
   ]
  },
  {
   "cell_type": "code",
   "execution_count": 51,
   "id": "caff746f",
   "metadata": {},
   "outputs": [
    {
     "data": {
      "text/plain": [
       "Index(['lp', 'Nazwisko', 'imie1', 'imie2', 'Pesel', 'Zawód/klasa', 'Oryginal',\n",
       "       'Internat', 'J.polski', 'Matematyka', 'J.obcy', 'j.polski',\n",
       "       'matematyka', 'biologia', 'informatyka', 'swiadectwo',\n",
       "       'Konkursy_ponad_woj', 'konk_miedzy_nar', 'konk_wojew',\n",
       "       'Konkursy_ponad_woj_1', 'wys_msc', 'aktyw_spol'],\n",
       "      dtype='object')"
      ]
     },
     "execution_count": 51,
     "metadata": {},
     "output_type": "execute_result"
    }
   ],
   "source": [
    "df.columns"
   ]
  },
  {
   "cell_type": "code",
   "execution_count": 52,
   "id": "54c3550c",
   "metadata": {},
   "outputs": [
    {
     "name": "stderr",
     "output_type": "stream",
     "text": [
      "/tmp/ipykernel_26466/2422343870.py:1: SettingWithCopyWarning: \n",
      "A value is trying to be set on a copy of a slice from a DataFrame\n",
      "\n",
      "See the caveats in the documentation: https://pandas.pydata.org/pandas-docs/stable/user_guide/indexing.html#returning-a-view-versus-a-copy\n",
      "  df['imie2'].loc[df['imie2'].isnull()]=''\n"
     ]
    }
   ],
   "source": [
    "df['imie2'].loc[df['imie2'].isnull()]=''"
   ]
  },
  {
   "cell_type": "code",
   "execution_count": 53,
   "id": "50e09b92",
   "metadata": {},
   "outputs": [],
   "source": [
    "df['swiadectwo'].replace({'TAK': 7, 'NIE':0},inplace=True)"
   ]
  },
  {
   "cell_type": "code",
   "execution_count": 54,
   "id": "49c63ab8",
   "metadata": {},
   "outputs": [],
   "source": [
    "list_subjects = ['J.polski', 'Matematyka', 'J.obcy']\n",
    "list_subjects1 = ['J.obcy']"
   ]
  },
  {
   "cell_type": "code",
   "execution_count": 55,
   "id": "e3594771",
   "metadata": {},
   "outputs": [],
   "source": [
    "for sub in list_subjects:\n",
    "    df[sub]= df[sub]*0.35\n",
    "df[list_subjects1]= df[list_subjects1]*0.3"
   ]
  },
  {
   "cell_type": "code",
   "execution_count": 56,
   "id": "71685cf8",
   "metadata": {},
   "outputs": [
    {
     "name": "stderr",
     "output_type": "stream",
     "text": [
      "/tmp/ipykernel_26466/1327869557.py:2: SettingWithCopyWarning: \n",
      "A value is trying to be set on a copy of a slice from a DataFrame\n",
      "\n",
      "See the caveats in the documentation: https://pandas.pydata.org/pandas-docs/stable/user_guide/indexing.html#returning-a-view-versus-a-copy\n",
      "  df[sub][df[sub].isnull()]=0\n",
      "/tmp/ipykernel_26466/1327869557.py:2: SettingWithCopyWarning: \n",
      "A value is trying to be set on a copy of a slice from a DataFrame\n",
      "\n",
      "See the caveats in the documentation: https://pandas.pydata.org/pandas-docs/stable/user_guide/indexing.html#returning-a-view-versus-a-copy\n",
      "  df[sub][df[sub].isnull()]=0\n",
      "/tmp/ipykernel_26466/1327869557.py:2: SettingWithCopyWarning: \n",
      "A value is trying to be set on a copy of a slice from a DataFrame\n",
      "\n",
      "See the caveats in the documentation: https://pandas.pydata.org/pandas-docs/stable/user_guide/indexing.html#returning-a-view-versus-a-copy\n",
      "  df[sub][df[sub].isnull()]=0\n"
     ]
    }
   ],
   "source": [
    "for sub in list_subjects:\n",
    "    df[sub][df[sub].isnull()]=0"
   ]
  },
  {
   "cell_type": "code",
   "execution_count": 57,
   "id": "7db85315",
   "metadata": {},
   "outputs": [],
   "source": [
    "dict_marks = {2:2,3:8,4:14,5:17,6:18}\n",
    "col_subjects=df.columns[11:15]"
   ]
  },
  {
   "cell_type": "code",
   "execution_count": 58,
   "id": "b6646a4c",
   "metadata": {},
   "outputs": [
    {
     "data": {
      "text/plain": [
       "Index(['j.polski', 'matematyka', 'biologia', 'informatyka'], dtype='object')"
      ]
     },
     "execution_count": 58,
     "metadata": {},
     "output_type": "execute_result"
    }
   ],
   "source": [
    "col_subjects"
   ]
  },
  {
   "cell_type": "code",
   "execution_count": 59,
   "id": "15604a40",
   "metadata": {},
   "outputs": [],
   "source": [
    "for sub in col_subjects:\n",
    "    df.replace({sub: dict_marks},inplace=True)"
   ]
  },
  {
   "cell_type": "code",
   "execution_count": 60,
   "id": "170f8031",
   "metadata": {},
   "outputs": [
    {
     "data": {
      "text/plain": [
       "Index(['lp', 'Nazwisko', 'imie1', 'imie2', 'Pesel', 'Zawód/klasa', 'Oryginal',\n",
       "       'Internat', 'J.polski', 'Matematyka', 'J.obcy', 'j.polski',\n",
       "       'matematyka', 'biologia', 'informatyka', 'swiadectwo',\n",
       "       'Konkursy_ponad_woj', 'konk_miedzy_nar', 'konk_wojew',\n",
       "       'Konkursy_ponad_woj_1', 'wys_msc', 'aktyw_spol'],\n",
       "      dtype='object')"
      ]
     },
     "execution_count": 60,
     "metadata": {},
     "output_type": "execute_result"
    }
   ],
   "source": [
    "df.columns"
   ]
  },
  {
   "cell_type": "code",
   "execution_count": 61,
   "id": "492fab3f",
   "metadata": {},
   "outputs": [],
   "source": [
    "df['pkt'] = df[df.columns[8:]].sum(axis=1)"
   ]
  },
  {
   "cell_type": "markdown",
   "id": "e98f58b9",
   "metadata": {},
   "source": [
    "### Kontrolny podgląd bazy "
   ]
  },
  {
   "cell_type": "code",
   "execution_count": 62,
   "id": "c8121f3e",
   "metadata": {},
   "outputs": [
    {
     "data": {
      "text/html": [
       "<div>\n",
       "<style scoped>\n",
       "    .dataframe tbody tr th:only-of-type {\n",
       "        vertical-align: middle;\n",
       "    }\n",
       "\n",
       "    .dataframe tbody tr th {\n",
       "        vertical-align: top;\n",
       "    }\n",
       "\n",
       "    .dataframe thead th {\n",
       "        text-align: right;\n",
       "    }\n",
       "</style>\n",
       "<table border=\"1\" class=\"dataframe\">\n",
       "  <thead>\n",
       "    <tr style=\"text-align: right;\">\n",
       "      <th></th>\n",
       "      <th>lp</th>\n",
       "      <th>Nazwisko</th>\n",
       "      <th>imie1</th>\n",
       "      <th>imie2</th>\n",
       "      <th>Pesel</th>\n",
       "      <th>Zawód/klasa</th>\n",
       "      <th>Oryginal</th>\n",
       "      <th>Internat</th>\n",
       "      <th>J.polski</th>\n",
       "      <th>Matematyka</th>\n",
       "      <th>...</th>\n",
       "      <th>biologia</th>\n",
       "      <th>informatyka</th>\n",
       "      <th>swiadectwo</th>\n",
       "      <th>Konkursy_ponad_woj</th>\n",
       "      <th>konk_miedzy_nar</th>\n",
       "      <th>konk_wojew</th>\n",
       "      <th>Konkursy_ponad_woj_1</th>\n",
       "      <th>wys_msc</th>\n",
       "      <th>aktyw_spol</th>\n",
       "      <th>pkt</th>\n",
       "    </tr>\n",
       "  </thead>\n",
       "  <tbody>\n",
       "    <tr>\n",
       "      <th>0</th>\n",
       "      <td>1</td>\n",
       "      <td>andruszewski</td>\n",
       "      <td>Dawid</td>\n",
       "      <td>rrr</td>\n",
       "      <td>06292805679</td>\n",
       "      <td>TAK</td>\n",
       "      <td>oryginał</td>\n",
       "      <td>NIE</td>\n",
       "      <td>17.5</td>\n",
       "      <td>17.5</td>\n",
       "      <td>...</td>\n",
       "      <td>18.0</td>\n",
       "      <td>18.0</td>\n",
       "      <td>7</td>\n",
       "      <td>10.0</td>\n",
       "      <td>10.0</td>\n",
       "      <td>10.0</td>\n",
       "      <td>10.0</td>\n",
       "      <td>4.0</td>\n",
       "      <td>3.0</td>\n",
       "      <td>166.25</td>\n",
       "    </tr>\n",
       "    <tr>\n",
       "      <th>1</th>\n",
       "      <td>2</td>\n",
       "      <td>Betkowski</td>\n",
       "      <td>Paweł</td>\n",
       "      <td></td>\n",
       "      <td>06300108556</td>\n",
       "      <td>TMR</td>\n",
       "      <td>oryginał</td>\n",
       "      <td>NIE</td>\n",
       "      <td>0.0</td>\n",
       "      <td>0.0</td>\n",
       "      <td>...</td>\n",
       "      <td>2.0</td>\n",
       "      <td>2.0</td>\n",
       "      <td>0</td>\n",
       "      <td>0.0</td>\n",
       "      <td>0.0</td>\n",
       "      <td>7.0</td>\n",
       "      <td>0.0</td>\n",
       "      <td>0.0</td>\n",
       "      <td>0.0</td>\n",
       "      <td>15.00</td>\n",
       "    </tr>\n",
       "    <tr>\n",
       "      <th>2</th>\n",
       "      <td>3</td>\n",
       "      <td>Bieńkowski</td>\n",
       "      <td>Wojciech</td>\n",
       "      <td></td>\n",
       "      <td>06222605050</td>\n",
       "      <td>TMR</td>\n",
       "      <td>podanie</td>\n",
       "      <td>NIE</td>\n",
       "      <td>0.0</td>\n",
       "      <td>0.0</td>\n",
       "      <td>...</td>\n",
       "      <td>2.0</td>\n",
       "      <td>2.0</td>\n",
       "      <td>0</td>\n",
       "      <td>0.0</td>\n",
       "      <td>0.0</td>\n",
       "      <td>7.0</td>\n",
       "      <td>0.0</td>\n",
       "      <td>0.0</td>\n",
       "      <td>0.0</td>\n",
       "      <td>15.00</td>\n",
       "    </tr>\n",
       "    <tr>\n",
       "      <th>3</th>\n",
       "      <td>4</td>\n",
       "      <td>Błaszczak</td>\n",
       "      <td>Mateusz</td>\n",
       "      <td></td>\n",
       "      <td>06280907990</td>\n",
       "      <td>TMR</td>\n",
       "      <td>podanie</td>\n",
       "      <td>NIE</td>\n",
       "      <td>0.0</td>\n",
       "      <td>0.0</td>\n",
       "      <td>...</td>\n",
       "      <td>2.0</td>\n",
       "      <td>2.0</td>\n",
       "      <td>0</td>\n",
       "      <td>0.0</td>\n",
       "      <td>0.0</td>\n",
       "      <td>7.0</td>\n",
       "      <td>0.0</td>\n",
       "      <td>0.0</td>\n",
       "      <td>0.0</td>\n",
       "      <td>15.00</td>\n",
       "    </tr>\n",
       "    <tr>\n",
       "      <th>4</th>\n",
       "      <td>5</td>\n",
       "      <td>Bogdańska</td>\n",
       "      <td>Wiktoria</td>\n",
       "      <td></td>\n",
       "      <td>07221703121</td>\n",
       "      <td>TR</td>\n",
       "      <td>oryginał</td>\n",
       "      <td>NIE</td>\n",
       "      <td>0.0</td>\n",
       "      <td>0.0</td>\n",
       "      <td>...</td>\n",
       "      <td>2.0</td>\n",
       "      <td>2.0</td>\n",
       "      <td>0</td>\n",
       "      <td>0.0</td>\n",
       "      <td>0.0</td>\n",
       "      <td>7.0</td>\n",
       "      <td>0.0</td>\n",
       "      <td>0.0</td>\n",
       "      <td>0.0</td>\n",
       "      <td>15.00</td>\n",
       "    </tr>\n",
       "    <tr>\n",
       "      <th>...</th>\n",
       "      <td>...</td>\n",
       "      <td>...</td>\n",
       "      <td>...</td>\n",
       "      <td>...</td>\n",
       "      <td>...</td>\n",
       "      <td>...</td>\n",
       "      <td>...</td>\n",
       "      <td>...</td>\n",
       "      <td>...</td>\n",
       "      <td>...</td>\n",
       "      <td>...</td>\n",
       "      <td>...</td>\n",
       "      <td>...</td>\n",
       "      <td>...</td>\n",
       "      <td>...</td>\n",
       "      <td>...</td>\n",
       "      <td>...</td>\n",
       "      <td>...</td>\n",
       "      <td>...</td>\n",
       "      <td>...</td>\n",
       "      <td>...</td>\n",
       "    </tr>\n",
       "    <tr>\n",
       "      <th>107</th>\n",
       "      <td>108</td>\n",
       "      <td>Dobrzeniecka</td>\n",
       "      <td>Marta</td>\n",
       "      <td></td>\n",
       "      <td>06271101460</td>\n",
       "      <td>TŻ</td>\n",
       "      <td>podanie</td>\n",
       "      <td>NIE</td>\n",
       "      <td>0.0</td>\n",
       "      <td>0.0</td>\n",
       "      <td>...</td>\n",
       "      <td>2.0</td>\n",
       "      <td>2.0</td>\n",
       "      <td>0</td>\n",
       "      <td>0.0</td>\n",
       "      <td>0.0</td>\n",
       "      <td>7.0</td>\n",
       "      <td>0.0</td>\n",
       "      <td>0.0</td>\n",
       "      <td>0.0</td>\n",
       "      <td>15.00</td>\n",
       "    </tr>\n",
       "    <tr>\n",
       "      <th>108</th>\n",
       "      <td>109</td>\n",
       "      <td>Jaworska</td>\n",
       "      <td>Marta</td>\n",
       "      <td></td>\n",
       "      <td>04280805904</td>\n",
       "      <td>TR</td>\n",
       "      <td>podanie</td>\n",
       "      <td>NIE</td>\n",
       "      <td>0.0</td>\n",
       "      <td>0.0</td>\n",
       "      <td>...</td>\n",
       "      <td>2.0</td>\n",
       "      <td>2.0</td>\n",
       "      <td>0</td>\n",
       "      <td>0.0</td>\n",
       "      <td>0.0</td>\n",
       "      <td>7.0</td>\n",
       "      <td>0.0</td>\n",
       "      <td>0.0</td>\n",
       "      <td>0.0</td>\n",
       "      <td>15.00</td>\n",
       "    </tr>\n",
       "    <tr>\n",
       "      <th>109</th>\n",
       "      <td>110</td>\n",
       "      <td>Borowska</td>\n",
       "      <td>Julia</td>\n",
       "      <td>Zuzannna</td>\n",
       "      <td>06302407684</td>\n",
       "      <td>TW</td>\n",
       "      <td>podanie</td>\n",
       "      <td>NIE</td>\n",
       "      <td>0.0</td>\n",
       "      <td>0.0</td>\n",
       "      <td>...</td>\n",
       "      <td>2.0</td>\n",
       "      <td>2.0</td>\n",
       "      <td>0</td>\n",
       "      <td>0.0</td>\n",
       "      <td>0.0</td>\n",
       "      <td>7.0</td>\n",
       "      <td>0.0</td>\n",
       "      <td>0.0</td>\n",
       "      <td>0.0</td>\n",
       "      <td>15.00</td>\n",
       "    </tr>\n",
       "    <tr>\n",
       "      <th>110</th>\n",
       "      <td>111</td>\n",
       "      <td>Skarżyńska</td>\n",
       "      <td>Amelia</td>\n",
       "      <td></td>\n",
       "      <td>06281608609</td>\n",
       "      <td>TW</td>\n",
       "      <td>podanie</td>\n",
       "      <td>NIE</td>\n",
       "      <td>0.0</td>\n",
       "      <td>0.0</td>\n",
       "      <td>...</td>\n",
       "      <td>2.0</td>\n",
       "      <td>2.0</td>\n",
       "      <td>0</td>\n",
       "      <td>0.0</td>\n",
       "      <td>0.0</td>\n",
       "      <td>7.0</td>\n",
       "      <td>0.0</td>\n",
       "      <td>0.0</td>\n",
       "      <td>0.0</td>\n",
       "      <td>15.00</td>\n",
       "    </tr>\n",
       "    <tr>\n",
       "      <th>111</th>\n",
       "      <td>112</td>\n",
       "      <td>Szewczyk</td>\n",
       "      <td>sandra</td>\n",
       "      <td>Luiza</td>\n",
       "      <td>06251509341</td>\n",
       "      <td>TW</td>\n",
       "      <td>podanie</td>\n",
       "      <td>NIE</td>\n",
       "      <td>0.0</td>\n",
       "      <td>0.0</td>\n",
       "      <td>...</td>\n",
       "      <td>2.0</td>\n",
       "      <td>2.0</td>\n",
       "      <td>0</td>\n",
       "      <td>0.0</td>\n",
       "      <td>0.0</td>\n",
       "      <td>7.0</td>\n",
       "      <td>0.0</td>\n",
       "      <td>0.0</td>\n",
       "      <td>0.0</td>\n",
       "      <td>15.00</td>\n",
       "    </tr>\n",
       "  </tbody>\n",
       "</table>\n",
       "<p>112 rows × 23 columns</p>\n",
       "</div>"
      ],
      "text/plain": [
       "      lp      Nazwisko     imie1     imie2        Pesel Zawód/klasa  Oryginal  \\\n",
       "0      1  andruszewski     Dawid       rrr  06292805679         TAK  oryginał   \n",
       "1      2     Betkowski     Paweł            06300108556         TMR  oryginał   \n",
       "2      3    Bieńkowski  Wojciech            06222605050         TMR   podanie   \n",
       "3      4     Błaszczak   Mateusz            06280907990         TMR   podanie   \n",
       "4      5     Bogdańska  Wiktoria            07221703121          TR  oryginał   \n",
       "..   ...           ...       ...       ...          ...         ...       ...   \n",
       "107  108  Dobrzeniecka     Marta            06271101460          TŻ   podanie   \n",
       "108  109      Jaworska     Marta            04280805904          TR   podanie   \n",
       "109  110      Borowska     Julia  Zuzannna  06302407684          TW   podanie   \n",
       "110  111    Skarżyńska    Amelia            06281608609          TW   podanie   \n",
       "111  112      Szewczyk    sandra     Luiza  06251509341          TW   podanie   \n",
       "\n",
       "    Internat  J.polski  Matematyka  ...  biologia  informatyka  swiadectwo  \\\n",
       "0        NIE      17.5        17.5  ...      18.0         18.0           7   \n",
       "1        NIE       0.0         0.0  ...       2.0          2.0           0   \n",
       "2        NIE       0.0         0.0  ...       2.0          2.0           0   \n",
       "3        NIE       0.0         0.0  ...       2.0          2.0           0   \n",
       "4        NIE       0.0         0.0  ...       2.0          2.0           0   \n",
       "..       ...       ...         ...  ...       ...          ...         ...   \n",
       "107      NIE       0.0         0.0  ...       2.0          2.0           0   \n",
       "108      NIE       0.0         0.0  ...       2.0          2.0           0   \n",
       "109      NIE       0.0         0.0  ...       2.0          2.0           0   \n",
       "110      NIE       0.0         0.0  ...       2.0          2.0           0   \n",
       "111      NIE       0.0         0.0  ...       2.0          2.0           0   \n",
       "\n",
       "     Konkursy_ponad_woj  konk_miedzy_nar  konk_wojew  Konkursy_ponad_woj_1  \\\n",
       "0                  10.0             10.0        10.0                  10.0   \n",
       "1                   0.0              0.0         7.0                   0.0   \n",
       "2                   0.0              0.0         7.0                   0.0   \n",
       "3                   0.0              0.0         7.0                   0.0   \n",
       "4                   0.0              0.0         7.0                   0.0   \n",
       "..                  ...              ...         ...                   ...   \n",
       "107                 0.0              0.0         7.0                   0.0   \n",
       "108                 0.0              0.0         7.0                   0.0   \n",
       "109                 0.0              0.0         7.0                   0.0   \n",
       "110                 0.0              0.0         7.0                   0.0   \n",
       "111                 0.0              0.0         7.0                   0.0   \n",
       "\n",
       "     wys_msc  aktyw_spol     pkt  \n",
       "0        4.0         3.0  166.25  \n",
       "1        0.0         0.0   15.00  \n",
       "2        0.0         0.0   15.00  \n",
       "3        0.0         0.0   15.00  \n",
       "4        0.0         0.0   15.00  \n",
       "..       ...         ...     ...  \n",
       "107      0.0         0.0   15.00  \n",
       "108      0.0         0.0   15.00  \n",
       "109      0.0         0.0   15.00  \n",
       "110      0.0         0.0   15.00  \n",
       "111      0.0         0.0   15.00  \n",
       "\n",
       "[112 rows x 23 columns]"
      ]
     },
     "execution_count": 62,
     "metadata": {},
     "output_type": "execute_result"
    }
   ],
   "source": [
    "df"
   ]
  },
  {
   "cell_type": "markdown",
   "id": "880f95cc",
   "metadata": {},
   "source": [
    "<b><font size=\"+3\" color=\"red\">Oryginały</b>"
   ]
  },
  {
   "cell_type": "markdown",
   "id": "a5901189",
   "metadata": {},
   "source": [
    "### Lista oryginałów"
   ]
  },
  {
   "cell_type": "code",
   "execution_count": 63,
   "id": "3117f37e",
   "metadata": {},
   "outputs": [
    {
     "data": {
      "text/html": [
       "<div>\n",
       "<style scoped>\n",
       "    .dataframe tbody tr th:only-of-type {\n",
       "        vertical-align: middle;\n",
       "    }\n",
       "\n",
       "    .dataframe tbody tr th {\n",
       "        vertical-align: top;\n",
       "    }\n",
       "\n",
       "    .dataframe thead th {\n",
       "        text-align: right;\n",
       "    }\n",
       "</style>\n",
       "<table border=\"1\" class=\"dataframe\">\n",
       "  <thead>\n",
       "    <tr style=\"text-align: right;\">\n",
       "      <th></th>\n",
       "      <th>lp</th>\n",
       "      <th>Nazwisko</th>\n",
       "      <th>imie1</th>\n",
       "      <th>imie2</th>\n",
       "      <th>Pesel</th>\n",
       "      <th>Zawód/klasa</th>\n",
       "      <th>Oryginal</th>\n",
       "      <th>Internat</th>\n",
       "      <th>J.polski</th>\n",
       "      <th>Matematyka</th>\n",
       "      <th>...</th>\n",
       "      <th>biologia</th>\n",
       "      <th>informatyka</th>\n",
       "      <th>swiadectwo</th>\n",
       "      <th>Konkursy_ponad_woj</th>\n",
       "      <th>konk_miedzy_nar</th>\n",
       "      <th>konk_wojew</th>\n",
       "      <th>Konkursy_ponad_woj_1</th>\n",
       "      <th>wys_msc</th>\n",
       "      <th>aktyw_spol</th>\n",
       "      <th>pkt</th>\n",
       "    </tr>\n",
       "  </thead>\n",
       "  <tbody>\n",
       "    <tr>\n",
       "      <th>0</th>\n",
       "      <td>1</td>\n",
       "      <td>Andruszewski</td>\n",
       "      <td>Dawid</td>\n",
       "      <td>rrr</td>\n",
       "      <td>06292805679</td>\n",
       "      <td>TAK</td>\n",
       "      <td>oryginał</td>\n",
       "      <td>NIE</td>\n",
       "      <td>17.5</td>\n",
       "      <td>17.5</td>\n",
       "      <td>...</td>\n",
       "      <td>18.0</td>\n",
       "      <td>18.0</td>\n",
       "      <td>7</td>\n",
       "      <td>10.0</td>\n",
       "      <td>10.0</td>\n",
       "      <td>10.0</td>\n",
       "      <td>10.0</td>\n",
       "      <td>4.0</td>\n",
       "      <td>3.0</td>\n",
       "      <td>166.25</td>\n",
       "    </tr>\n",
       "    <tr>\n",
       "      <th>1</th>\n",
       "      <td>2</td>\n",
       "      <td>Betkowski</td>\n",
       "      <td>Paweł</td>\n",
       "      <td></td>\n",
       "      <td>06300108556</td>\n",
       "      <td>TMR</td>\n",
       "      <td>oryginał</td>\n",
       "      <td>NIE</td>\n",
       "      <td>0.0</td>\n",
       "      <td>0.0</td>\n",
       "      <td>...</td>\n",
       "      <td>2.0</td>\n",
       "      <td>2.0</td>\n",
       "      <td>0</td>\n",
       "      <td>0.0</td>\n",
       "      <td>0.0</td>\n",
       "      <td>7.0</td>\n",
       "      <td>0.0</td>\n",
       "      <td>0.0</td>\n",
       "      <td>0.0</td>\n",
       "      <td>15.00</td>\n",
       "    </tr>\n",
       "    <tr>\n",
       "      <th>4</th>\n",
       "      <td>5</td>\n",
       "      <td>Bogdańska</td>\n",
       "      <td>Wiktoria</td>\n",
       "      <td></td>\n",
       "      <td>07221703121</td>\n",
       "      <td>TR</td>\n",
       "      <td>oryginał</td>\n",
       "      <td>NIE</td>\n",
       "      <td>0.0</td>\n",
       "      <td>0.0</td>\n",
       "      <td>...</td>\n",
       "      <td>2.0</td>\n",
       "      <td>2.0</td>\n",
       "      <td>0</td>\n",
       "      <td>0.0</td>\n",
       "      <td>0.0</td>\n",
       "      <td>7.0</td>\n",
       "      <td>0.0</td>\n",
       "      <td>0.0</td>\n",
       "      <td>0.0</td>\n",
       "      <td>15.00</td>\n",
       "    </tr>\n",
       "    <tr>\n",
       "      <th>10</th>\n",
       "      <td>11</td>\n",
       "      <td>Cackowska</td>\n",
       "      <td>Patrycja</td>\n",
       "      <td></td>\n",
       "      <td>06250801369</td>\n",
       "      <td>TMR</td>\n",
       "      <td>oryginał</td>\n",
       "      <td>NIE</td>\n",
       "      <td>0.0</td>\n",
       "      <td>0.0</td>\n",
       "      <td>...</td>\n",
       "      <td>2.0</td>\n",
       "      <td>2.0</td>\n",
       "      <td>0</td>\n",
       "      <td>0.0</td>\n",
       "      <td>0.0</td>\n",
       "      <td>7.0</td>\n",
       "      <td>0.0</td>\n",
       "      <td>0.0</td>\n",
       "      <td>0.0</td>\n",
       "      <td>15.00</td>\n",
       "    </tr>\n",
       "    <tr>\n",
       "      <th>11</th>\n",
       "      <td>12</td>\n",
       "      <td>Chmielewski</td>\n",
       "      <td>Adrian</td>\n",
       "      <td></td>\n",
       "      <td>06241210190</td>\n",
       "      <td>TMR</td>\n",
       "      <td>oryginał</td>\n",
       "      <td>NIE</td>\n",
       "      <td>0.0</td>\n",
       "      <td>0.0</td>\n",
       "      <td>...</td>\n",
       "      <td>2.0</td>\n",
       "      <td>2.0</td>\n",
       "      <td>0</td>\n",
       "      <td>0.0</td>\n",
       "      <td>0.0</td>\n",
       "      <td>7.0</td>\n",
       "      <td>0.0</td>\n",
       "      <td>0.0</td>\n",
       "      <td>0.0</td>\n",
       "      <td>15.00</td>\n",
       "    </tr>\n",
       "    <tr>\n",
       "      <th>12</th>\n",
       "      <td>13</td>\n",
       "      <td>Ciarczyńska</td>\n",
       "      <td>Oliwia</td>\n",
       "      <td></td>\n",
       "      <td>07231905029</td>\n",
       "      <td>TMR</td>\n",
       "      <td>oryginał</td>\n",
       "      <td>NIE</td>\n",
       "      <td>0.0</td>\n",
       "      <td>0.0</td>\n",
       "      <td>...</td>\n",
       "      <td>2.0</td>\n",
       "      <td>2.0</td>\n",
       "      <td>0</td>\n",
       "      <td>0.0</td>\n",
       "      <td>0.0</td>\n",
       "      <td>7.0</td>\n",
       "      <td>0.0</td>\n",
       "      <td>0.0</td>\n",
       "      <td>0.0</td>\n",
       "      <td>15.00</td>\n",
       "    </tr>\n",
       "  </tbody>\n",
       "</table>\n",
       "<p>6 rows × 23 columns</p>\n",
       "</div>"
      ],
      "text/plain": [
       "    lp      Nazwisko     imie1 imie2        Pesel Zawód/klasa  Oryginal  \\\n",
       "0    1  Andruszewski     Dawid   rrr  06292805679         TAK  oryginał   \n",
       "1    2     Betkowski     Paweł        06300108556         TMR  oryginał   \n",
       "4    5     Bogdańska  Wiktoria        07221703121          TR  oryginał   \n",
       "10  11     Cackowska  Patrycja        06250801369         TMR  oryginał   \n",
       "11  12   Chmielewski    Adrian        06241210190         TMR  oryginał   \n",
       "12  13   Ciarczyńska    Oliwia        07231905029         TMR  oryginał   \n",
       "\n",
       "   Internat  J.polski  Matematyka  ...  biologia  informatyka  swiadectwo  \\\n",
       "0       NIE      17.5        17.5  ...      18.0         18.0           7   \n",
       "1       NIE       0.0         0.0  ...       2.0          2.0           0   \n",
       "4       NIE       0.0         0.0  ...       2.0          2.0           0   \n",
       "10      NIE       0.0         0.0  ...       2.0          2.0           0   \n",
       "11      NIE       0.0         0.0  ...       2.0          2.0           0   \n",
       "12      NIE       0.0         0.0  ...       2.0          2.0           0   \n",
       "\n",
       "    Konkursy_ponad_woj  konk_miedzy_nar  konk_wojew  Konkursy_ponad_woj_1  \\\n",
       "0                 10.0             10.0        10.0                  10.0   \n",
       "1                  0.0              0.0         7.0                   0.0   \n",
       "4                  0.0              0.0         7.0                   0.0   \n",
       "10                 0.0              0.0         7.0                   0.0   \n",
       "11                 0.0              0.0         7.0                   0.0   \n",
       "12                 0.0              0.0         7.0                   0.0   \n",
       "\n",
       "    wys_msc  aktyw_spol     pkt  \n",
       "0       4.0         3.0  166.25  \n",
       "1       0.0         0.0   15.00  \n",
       "4       0.0         0.0   15.00  \n",
       "10      0.0         0.0   15.00  \n",
       "11      0.0         0.0   15.00  \n",
       "12      0.0         0.0   15.00  \n",
       "\n",
       "[6 rows x 23 columns]"
      ]
     },
     "execution_count": 63,
     "metadata": {},
     "output_type": "execute_result"
    }
   ],
   "source": [
    "df['Nazwisko'] = df['Nazwisko'].str.capitalize()\n",
    "df[df.Oryginal=='oryginał'].sort_values(by='pkt', ascending=False)"
   ]
  },
  {
   "cell_type": "code",
   "execution_count": 64,
   "id": "766979a2",
   "metadata": {},
   "outputs": [],
   "source": [
    "df_oryg = df[df.Oryginal=='oryginał'].sort_values(by='pkt', ascending=False)"
   ]
  },
  {
   "cell_type": "code",
   "execution_count": 65,
   "id": "18129ca6",
   "metadata": {},
   "outputs": [],
   "source": [
    "value_list = list(df_oryg['Zawód/klasa'].unique())"
   ]
  },
  {
   "cell_type": "markdown",
   "id": "f63c52e7",
   "metadata": {},
   "source": [
    "### Ilość oryginałów"
   ]
  },
  {
   "cell_type": "code",
   "execution_count": 66,
   "id": "4ee231c8",
   "metadata": {},
   "outputs": [
    {
     "data": {
      "text/html": [
       "<div>\n",
       "<style scoped>\n",
       "    .dataframe tbody tr th:only-of-type {\n",
       "        vertical-align: middle;\n",
       "    }\n",
       "\n",
       "    .dataframe tbody tr th {\n",
       "        vertical-align: top;\n",
       "    }\n",
       "\n",
       "    .dataframe thead th {\n",
       "        text-align: right;\n",
       "    }\n",
       "</style>\n",
       "<table border=\"1\" class=\"dataframe\">\n",
       "  <thead>\n",
       "    <tr style=\"text-align: right;\">\n",
       "      <th></th>\n",
       "      <th>ilość oryginałów</th>\n",
       "    </tr>\n",
       "    <tr>\n",
       "      <th>Zawód/klasa</th>\n",
       "      <th></th>\n",
       "    </tr>\n",
       "  </thead>\n",
       "  <tbody>\n",
       "    <tr>\n",
       "      <th>TAK</th>\n",
       "      <td>1</td>\n",
       "    </tr>\n",
       "    <tr>\n",
       "      <th>TMR</th>\n",
       "      <td>4</td>\n",
       "    </tr>\n",
       "    <tr>\n",
       "      <th>TR</th>\n",
       "      <td>1</td>\n",
       "    </tr>\n",
       "  </tbody>\n",
       "</table>\n",
       "</div>"
      ],
      "text/plain": [
       "             ilość oryginałów\n",
       "Zawód/klasa                  \n",
       "TAK                         1\n",
       "TMR                         4\n",
       "TR                          1"
      ]
     },
     "execution_count": 66,
     "metadata": {},
     "output_type": "execute_result"
    }
   ],
   "source": [
    "df_oryg.groupby('Zawód/klasa').count()[['lp']].rename(columns={\"lp\": \"ilość oryginałów\"})"
   ]
  },
  {
   "cell_type": "markdown",
   "id": "806d82b4",
   "metadata": {},
   "source": [
    "### Podział na klasy"
   ]
  },
  {
   "cell_type": "code",
   "execution_count": 67,
   "id": "5e9fcdfe",
   "metadata": {},
   "outputs": [
    {
     "data": {
      "text/html": [
       "<style>\n",
       ".output {\n",
       "    flex-direction: column;\n",
       "}\n",
       "</style>"
      ],
      "text/plain": [
       "<IPython.core.display.HTML object>"
      ]
     },
     "execution_count": 67,
     "metadata": {},
     "output_type": "execute_result"
    }
   ],
   "source": [
    "from IPython.display import display, HTML\n",
    "\n",
    "css = \"\"\"\n",
    ".output {\n",
    "    flex-direction: column;\n",
    "}\n",
    "\"\"\"\n",
    "HTML('<style>{}</style>'.format(css))"
   ]
  },
  {
   "cell_type": "code",
   "execution_count": 68,
   "id": "3378e115",
   "metadata": {},
   "outputs": [],
   "source": [
    "list_col=['Nazwisko','imie1','imie2','Pesel','Zawód/klasa','pkt']"
   ]
  },
  {
   "cell_type": "code",
   "execution_count": 69,
   "id": "8141335a",
   "metadata": {},
   "outputs": [
    {
     "data": {
      "text/html": [
       "<div>\n",
       "<style scoped>\n",
       "    .dataframe tbody tr th:only-of-type {\n",
       "        vertical-align: middle;\n",
       "    }\n",
       "\n",
       "    .dataframe tbody tr th {\n",
       "        vertical-align: top;\n",
       "    }\n",
       "\n",
       "    .dataframe thead th {\n",
       "        text-align: right;\n",
       "    }\n",
       "</style>\n",
       "<table border=\"1\" class=\"dataframe\">\n",
       "  <thead>\n",
       "    <tr style=\"text-align: right;\">\n",
       "      <th></th>\n",
       "      <th>Nazwisko</th>\n",
       "      <th>imie1</th>\n",
       "      <th>imie2</th>\n",
       "      <th>Pesel</th>\n",
       "      <th>Zawód/klasa</th>\n",
       "      <th>pkt</th>\n",
       "    </tr>\n",
       "  </thead>\n",
       "  <tbody>\n",
       "    <tr>\n",
       "      <th>0</th>\n",
       "      <td>Andruszewski</td>\n",
       "      <td>Dawid</td>\n",
       "      <td>rrr</td>\n",
       "      <td>06292805679</td>\n",
       "      <td>TAK</td>\n",
       "      <td>166.25</td>\n",
       "    </tr>\n",
       "  </tbody>\n",
       "</table>\n",
       "</div>"
      ],
      "text/plain": [
       "       Nazwisko  imie1 imie2        Pesel Zawód/klasa     pkt\n",
       "0  Andruszewski  Dawid   rrr  06292805679         TAK  166.25"
      ]
     },
     "metadata": {},
     "output_type": "display_data"
    },
    {
     "data": {
      "text/html": [
       "<div>\n",
       "<style scoped>\n",
       "    .dataframe tbody tr th:only-of-type {\n",
       "        vertical-align: middle;\n",
       "    }\n",
       "\n",
       "    .dataframe tbody tr th {\n",
       "        vertical-align: top;\n",
       "    }\n",
       "\n",
       "    .dataframe thead th {\n",
       "        text-align: right;\n",
       "    }\n",
       "</style>\n",
       "<table border=\"1\" class=\"dataframe\">\n",
       "  <thead>\n",
       "    <tr style=\"text-align: right;\">\n",
       "      <th></th>\n",
       "      <th>Nazwisko</th>\n",
       "      <th>imie1</th>\n",
       "      <th>imie2</th>\n",
       "      <th>Pesel</th>\n",
       "      <th>Zawód/klasa</th>\n",
       "      <th>pkt</th>\n",
       "    </tr>\n",
       "  </thead>\n",
       "  <tbody>\n",
       "    <tr>\n",
       "      <th>1</th>\n",
       "      <td>Betkowski</td>\n",
       "      <td>Paweł</td>\n",
       "      <td></td>\n",
       "      <td>06300108556</td>\n",
       "      <td>TMR</td>\n",
       "      <td>15.0</td>\n",
       "    </tr>\n",
       "    <tr>\n",
       "      <th>10</th>\n",
       "      <td>Cackowska</td>\n",
       "      <td>Patrycja</td>\n",
       "      <td></td>\n",
       "      <td>06250801369</td>\n",
       "      <td>TMR</td>\n",
       "      <td>15.0</td>\n",
       "    </tr>\n",
       "    <tr>\n",
       "      <th>11</th>\n",
       "      <td>Chmielewski</td>\n",
       "      <td>Adrian</td>\n",
       "      <td></td>\n",
       "      <td>06241210190</td>\n",
       "      <td>TMR</td>\n",
       "      <td>15.0</td>\n",
       "    </tr>\n",
       "    <tr>\n",
       "      <th>12</th>\n",
       "      <td>Ciarczyńska</td>\n",
       "      <td>Oliwia</td>\n",
       "      <td></td>\n",
       "      <td>07231905029</td>\n",
       "      <td>TMR</td>\n",
       "      <td>15.0</td>\n",
       "    </tr>\n",
       "  </tbody>\n",
       "</table>\n",
       "</div>"
      ],
      "text/plain": [
       "       Nazwisko     imie1 imie2        Pesel Zawód/klasa   pkt\n",
       "1     Betkowski     Paweł        06300108556         TMR  15.0\n",
       "10    Cackowska  Patrycja        06250801369         TMR  15.0\n",
       "11  Chmielewski    Adrian        06241210190         TMR  15.0\n",
       "12  Ciarczyńska    Oliwia        07231905029         TMR  15.0"
      ]
     },
     "metadata": {},
     "output_type": "display_data"
    },
    {
     "data": {
      "text/html": [
       "<div>\n",
       "<style scoped>\n",
       "    .dataframe tbody tr th:only-of-type {\n",
       "        vertical-align: middle;\n",
       "    }\n",
       "\n",
       "    .dataframe tbody tr th {\n",
       "        vertical-align: top;\n",
       "    }\n",
       "\n",
       "    .dataframe thead th {\n",
       "        text-align: right;\n",
       "    }\n",
       "</style>\n",
       "<table border=\"1\" class=\"dataframe\">\n",
       "  <thead>\n",
       "    <tr style=\"text-align: right;\">\n",
       "      <th></th>\n",
       "      <th>Nazwisko</th>\n",
       "      <th>imie1</th>\n",
       "      <th>imie2</th>\n",
       "      <th>Pesel</th>\n",
       "      <th>Zawód/klasa</th>\n",
       "      <th>pkt</th>\n",
       "    </tr>\n",
       "  </thead>\n",
       "  <tbody>\n",
       "    <tr>\n",
       "      <th>4</th>\n",
       "      <td>Bogdańska</td>\n",
       "      <td>Wiktoria</td>\n",
       "      <td></td>\n",
       "      <td>07221703121</td>\n",
       "      <td>TR</td>\n",
       "      <td>15.0</td>\n",
       "    </tr>\n",
       "  </tbody>\n",
       "</table>\n",
       "</div>"
      ],
      "text/plain": [
       "    Nazwisko     imie1 imie2        Pesel Zawód/klasa   pkt\n",
       "4  Bogdańska  Wiktoria        07221703121          TR  15.0"
      ]
     },
     "metadata": {},
     "output_type": "display_data"
    }
   ],
   "source": [
    "for val in value_list:    \n",
    "    df_oryg[df_oryg['Zawód/klasa']==val].loc[:,list_col].to_html('oryginal/'+str(val)+'.html', index=False)\n",
    "    display(df_oryg[df_oryg['Zawód/klasa']==val].loc[:,list_col])    "
   ]
  },
  {
   "cell_type": "markdown",
   "id": "e194b47d",
   "metadata": {},
   "source": [
    "<b><font size=\"+3\" color=\"red\">Kopie</b>"
   ]
  },
  {
   "cell_type": "markdown",
   "id": "c5cd831f",
   "metadata": {},
   "source": [
    "## Lista kopii\n"
   ]
  },
  {
   "cell_type": "code",
   "execution_count": 70,
   "id": "a40bcfb8",
   "metadata": {},
   "outputs": [
    {
     "data": {
      "text/html": [
       "<div>\n",
       "<style scoped>\n",
       "    .dataframe tbody tr th:only-of-type {\n",
       "        vertical-align: middle;\n",
       "    }\n",
       "\n",
       "    .dataframe tbody tr th {\n",
       "        vertical-align: top;\n",
       "    }\n",
       "\n",
       "    .dataframe thead th {\n",
       "        text-align: right;\n",
       "    }\n",
       "</style>\n",
       "<table border=\"1\" class=\"dataframe\">\n",
       "  <thead>\n",
       "    <tr style=\"text-align: right;\">\n",
       "      <th></th>\n",
       "      <th>Nazwisko</th>\n",
       "      <th>imie1</th>\n",
       "      <th>imie2</th>\n",
       "      <th>Pesel</th>\n",
       "      <th>Zawód/klasa</th>\n",
       "      <th>pkt</th>\n",
       "    </tr>\n",
       "  </thead>\n",
       "  <tbody>\n",
       "    <tr>\n",
       "      <th>8</th>\n",
       "      <td>Brzozowski</td>\n",
       "      <td>Stanisław</td>\n",
       "      <td></td>\n",
       "      <td>07242406438</td>\n",
       "      <td>TW</td>\n",
       "      <td>15.0</td>\n",
       "    </tr>\n",
       "    <tr>\n",
       "      <th>9</th>\n",
       "      <td>Brzozowski</td>\n",
       "      <td>Igor</td>\n",
       "      <td></td>\n",
       "      <td>06272604436</td>\n",
       "      <td>TMR</td>\n",
       "      <td>15.0</td>\n",
       "    </tr>\n",
       "  </tbody>\n",
       "</table>\n",
       "</div>"
      ],
      "text/plain": [
       "     Nazwisko      imie1 imie2        Pesel Zawód/klasa   pkt\n",
       "8  Brzozowski  Stanisław        07242406438          TW  15.0\n",
       "9  Brzozowski       Igor        06272604436         TMR  15.0"
      ]
     },
     "execution_count": 70,
     "metadata": {},
     "output_type": "execute_result"
    }
   ],
   "source": [
    "df[df.Oryginal=='kopia'].sort_values(by='pkt', ascending=False).loc[:,list_col]"
   ]
  },
  {
   "cell_type": "markdown",
   "id": "9349e6c2",
   "metadata": {},
   "source": [
    "### Ilość kopii"
   ]
  },
  {
   "cell_type": "code",
   "execution_count": 71,
   "id": "a72d9e25",
   "metadata": {},
   "outputs": [
    {
     "data": {
      "text/html": [
       "<div>\n",
       "<style scoped>\n",
       "    .dataframe tbody tr th:only-of-type {\n",
       "        vertical-align: middle;\n",
       "    }\n",
       "\n",
       "    .dataframe tbody tr th {\n",
       "        vertical-align: top;\n",
       "    }\n",
       "\n",
       "    .dataframe thead th {\n",
       "        text-align: right;\n",
       "    }\n",
       "</style>\n",
       "<table border=\"1\" class=\"dataframe\">\n",
       "  <thead>\n",
       "    <tr style=\"text-align: right;\">\n",
       "      <th></th>\n",
       "      <th>ilość kopii</th>\n",
       "    </tr>\n",
       "    <tr>\n",
       "      <th>Zawód/klasa</th>\n",
       "      <th></th>\n",
       "    </tr>\n",
       "  </thead>\n",
       "  <tbody>\n",
       "    <tr>\n",
       "      <th>TMR</th>\n",
       "      <td>1</td>\n",
       "    </tr>\n",
       "    <tr>\n",
       "      <th>TW</th>\n",
       "      <td>1</td>\n",
       "    </tr>\n",
       "  </tbody>\n",
       "</table>\n",
       "</div>"
      ],
      "text/plain": [
       "             ilość kopii\n",
       "Zawód/klasa             \n",
       "TMR                    1\n",
       "TW                     1"
      ]
     },
     "execution_count": 71,
     "metadata": {},
     "output_type": "execute_result"
    }
   ],
   "source": [
    "df_kopia = df[df.Oryginal=='kopia']\n",
    "value_list = list(df_kopia['Zawód/klasa'].unique())\n",
    "df_kopia.groupby('Zawód/klasa').count()[['lp']].rename(columns={\"lp\": \"ilość kopii\"})"
   ]
  },
  {
   "cell_type": "markdown",
   "id": "52b73ef2",
   "metadata": {},
   "source": [
    "### Podział na klasy"
   ]
  },
  {
   "cell_type": "code",
   "execution_count": 72,
   "id": "a9453623",
   "metadata": {},
   "outputs": [
    {
     "data": {
      "text/html": [
       "<div>\n",
       "<style scoped>\n",
       "    .dataframe tbody tr th:only-of-type {\n",
       "        vertical-align: middle;\n",
       "    }\n",
       "\n",
       "    .dataframe tbody tr th {\n",
       "        vertical-align: top;\n",
       "    }\n",
       "\n",
       "    .dataframe thead th {\n",
       "        text-align: right;\n",
       "    }\n",
       "</style>\n",
       "<table border=\"1\" class=\"dataframe\">\n",
       "  <thead>\n",
       "    <tr style=\"text-align: right;\">\n",
       "      <th></th>\n",
       "      <th>Nazwisko</th>\n",
       "      <th>imie1</th>\n",
       "      <th>imie2</th>\n",
       "      <th>Pesel</th>\n",
       "      <th>Zawód/klasa</th>\n",
       "      <th>pkt</th>\n",
       "    </tr>\n",
       "  </thead>\n",
       "  <tbody>\n",
       "    <tr>\n",
       "      <th>8</th>\n",
       "      <td>Brzozowski</td>\n",
       "      <td>Stanisław</td>\n",
       "      <td></td>\n",
       "      <td>07242406438</td>\n",
       "      <td>TW</td>\n",
       "      <td>15.0</td>\n",
       "    </tr>\n",
       "  </tbody>\n",
       "</table>\n",
       "</div>"
      ],
      "text/plain": [
       "     Nazwisko      imie1 imie2        Pesel Zawód/klasa   pkt\n",
       "8  Brzozowski  Stanisław        07242406438          TW  15.0"
      ]
     },
     "metadata": {},
     "output_type": "display_data"
    },
    {
     "data": {
      "text/html": [
       "<div>\n",
       "<style scoped>\n",
       "    .dataframe tbody tr th:only-of-type {\n",
       "        vertical-align: middle;\n",
       "    }\n",
       "\n",
       "    .dataframe tbody tr th {\n",
       "        vertical-align: top;\n",
       "    }\n",
       "\n",
       "    .dataframe thead th {\n",
       "        text-align: right;\n",
       "    }\n",
       "</style>\n",
       "<table border=\"1\" class=\"dataframe\">\n",
       "  <thead>\n",
       "    <tr style=\"text-align: right;\">\n",
       "      <th></th>\n",
       "      <th>Nazwisko</th>\n",
       "      <th>imie1</th>\n",
       "      <th>imie2</th>\n",
       "      <th>Pesel</th>\n",
       "      <th>Zawód/klasa</th>\n",
       "      <th>pkt</th>\n",
       "    </tr>\n",
       "  </thead>\n",
       "  <tbody>\n",
       "    <tr>\n",
       "      <th>9</th>\n",
       "      <td>Brzozowski</td>\n",
       "      <td>Igor</td>\n",
       "      <td></td>\n",
       "      <td>06272604436</td>\n",
       "      <td>TMR</td>\n",
       "      <td>15.0</td>\n",
       "    </tr>\n",
       "  </tbody>\n",
       "</table>\n",
       "</div>"
      ],
      "text/plain": [
       "     Nazwisko imie1 imie2        Pesel Zawód/klasa   pkt\n",
       "9  Brzozowski  Igor        06272604436         TMR  15.0"
      ]
     },
     "metadata": {},
     "output_type": "display_data"
    }
   ],
   "source": [
    "for val in value_list:      \n",
    "    df_kopia[df_kopia['Zawód/klasa']==val].loc[:,list_col].to_html('kopia/'+str(val)+'.html', index=False)\n",
    "    display(df_kopia[df_kopia['Zawód/klasa']==val].loc[:,list_col])    "
   ]
  },
  {
   "cell_type": "markdown",
   "id": "f977b86f",
   "metadata": {},
   "source": [
    "<b><font size=\"+3\" color=\"red\">Wyszukiwanie</b>"
   ]
  },
  {
   "cell_type": "markdown",
   "id": "5e281473",
   "metadata": {},
   "source": [
    "### Wg nazwiska"
   ]
  },
  {
   "cell_type": "code",
   "execution_count": 73,
   "id": "27a90bef",
   "metadata": {},
   "outputs": [
    {
     "name": "stdout",
     "output_type": "stream",
     "text": [
      "Podaj nazwisko:brz\n"
     ]
    }
   ],
   "source": [
    "try:\n",
    "    nazwisko = input('Podaj nazwisko:').capitalize()\n",
    "    df['Nazwisko'] =  df['Nazwisko'].str.capitalize()   \n",
    "    df1 = df[df['Nazwisko'].str.startswith(nazwisko)]\n",
    "except:\n",
    "    print('Nie podałeś nazwiska')"
   ]
  },
  {
   "cell_type": "code",
   "execution_count": 74,
   "id": "b8dc86ce",
   "metadata": {},
   "outputs": [
    {
     "name": "stdout",
     "output_type": "stream",
     "text": [
      "     Nazwisko      imie1 imie2        Pesel Zawód/klasa   pkt\n",
      "8  Brzozowski  Stanisław        07242406438          TW  15.0\n",
      "9  Brzozowski       Igor        06272604436         TMR  15.0\n"
     ]
    }
   ],
   "source": [
    "try:\n",
    "    print(df1.loc[:,list_col])\n",
    "except NameError:\n",
    "    print('Nie podałeś nazwiska')"
   ]
  },
  {
   "cell_type": "markdown",
   "id": "6dff8625",
   "metadata": {},
   "source": [
    "## Wg pesel"
   ]
  },
  {
   "cell_type": "code",
   "execution_count": 75,
   "id": "e46d57dc",
   "metadata": {},
   "outputs": [
    {
     "name": "stdout",
     "output_type": "stream",
     "text": [
      "Podaj pesel:07\n"
     ]
    }
   ],
   "source": [
    "try:\n",
    "    pesel = input('Podaj pesel:')\n",
    "    df2 = df[df['Pesel'].str.startswith(pesel, na=None)]\n",
    "except:\n",
    "    print('Nie podałeś nr pesel')"
   ]
  },
  {
   "cell_type": "code",
   "execution_count": 76,
   "id": "78c52c02",
   "metadata": {},
   "outputs": [
    {
     "name": "stdout",
     "output_type": "stream",
     "text": [
      "        Nazwisko      imie1    imie2        Pesel Zawód/klasa   pkt\n",
      "4      Bogdańska   Wiktoria           07221703121          TR  15.0\n",
      "6     Bombalicka   Patrycja           07271909027         TMR  15.0\n",
      "7          Boros     Szymon           07241302575         TMR  15.0\n",
      "8     Brzozowski  Stanisław           07242406438          TW  15.0\n",
      "12   Ciarczyńska     Oliwia           07231905029         TMR  15.0\n",
      "14      Dolińska      Agata           07280705885         TMR  15.0\n",
      "20    Górczyńska    Roksana           07211109247         TMR  15.0\n",
      "30   Kaczorowski    Mateusz           07230604233         TMR  15.0\n",
      "44     Laskowska   Dominika           07262302903         TMR  15.0\n",
      "47   Lewandowski    Mikołaj   Kacper  07230511175         TMR  15.0\n",
      "53   Matuszewska       Anna           07312602728         TMR  15.0\n",
      "57    Mielczarek    Zuzanna           07290202444         TMR  15.0\n",
      "60     Muszyńska    Dagmara           07321203686         TMR  15.0\n",
      "65     Pajkowska       Maja           07232808123         TMR  15.0\n",
      "73   Pilichowska     Amelia           07282909409         TMR  15.0\n",
      "75     Prątnicki      Filip           07210401456         TMR  15.0\n",
      "82       Serwach      Jakub           07232306119         TMR  15.0\n",
      "83        Siejka     Kacper           07221409478         TMR  15.0\n",
      "85     Stanowska    Natalia    Daria  07221508184         TMR  15.0\n",
      "89     Trębińska      Julia           07220503883         TMR  15.0\n",
      "90    Walerowicz   Wioletta           07211106329         TMR  15.0\n",
      "91    Walerowicz       Adam           07211107016         TMR  15.0\n",
      "95    Wiśniewska  Katarzyna  Samanta  07221208367         TMR  15.0\n",
      "97        Wolska    Zuzanna           07272508980         TMR  15.0\n",
      "103      Churski  Sebastian           07271004890         TMR  15.0\n",
      "104  Tomaszewski      Karol           07262302217         TMR  15.0\n"
     ]
    }
   ],
   "source": [
    "try:\n",
    "    print(df2.loc[:,list_col])\n",
    "except NameError:\n",
    "    print('Nie podałeś nr pesel')"
   ]
  },
  {
   "cell_type": "code",
   "execution_count": null,
   "id": "670c3b21",
   "metadata": {},
   "outputs": [],
   "source": []
  },
  {
   "cell_type": "code",
   "execution_count": null,
   "id": "f0d4d927",
   "metadata": {},
   "outputs": [],
   "source": []
  },
  {
   "cell_type": "code",
   "execution_count": null,
   "id": "2ef9613c",
   "metadata": {},
   "outputs": [],
   "source": []
  }
 ],
 "metadata": {
  "celltoolbar": "Raw Cell Format",
  "kernelspec": {
   "display_name": "Python 3 (ipykernel)",
   "language": "python",
   "name": "python3"
  },
  "language_info": {
   "codemirror_mode": {
    "name": "ipython",
    "version": 3
   },
   "file_extension": ".py",
   "mimetype": "text/x-python",
   "name": "python",
   "nbconvert_exporter": "python",
   "pygments_lexer": "ipython3",
   "version": "3.9.13"
  }
 },
 "nbformat": 4,
 "nbformat_minor": 5
}
