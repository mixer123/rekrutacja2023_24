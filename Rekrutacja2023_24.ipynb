{
 "cells": [
  {
   "cell_type": "code",
   "execution_count": 72,
   "id": "ac11b0b0",
   "metadata": {},
   "outputs": [],
   "source": [
    "import pandas as pd\n",
    "import numpy as np\n",
    "import ipywidgets as widgets\n",
    "from ipywidgets import interact, interact_manual"
   ]
  },
  {
   "cell_type": "code",
   "execution_count": 73,
   "id": "978ac6e1",
   "metadata": {},
   "outputs": [],
   "source": [
    "df = pd.read_excel('rekrutacja.xlsx', sheet_name=0)"
   ]
  },
  {
   "cell_type": "code",
   "execution_count": 74,
   "id": "9ff2a78b",
   "metadata": {},
   "outputs": [],
   "source": [
    "df.imie2 = df.imie2[df.imie2.isnull()==False]"
   ]
  },
  {
   "cell_type": "code",
   "execution_count": 75,
   "id": "9d10ade1",
   "metadata": {},
   "outputs": [],
   "source": [
    "df = df.loc[df[\"Pesel\"].isnull()==False]"
   ]
  },
  {
   "cell_type": "code",
   "execution_count": 76,
   "id": "506ca878",
   "metadata": {},
   "outputs": [],
   "source": [
    "df = df.astype({\"Pesel\": int})"
   ]
  },
  {
   "cell_type": "code",
   "execution_count": 77,
   "id": "96959101",
   "metadata": {},
   "outputs": [],
   "source": [
    "def add_zero(number):\n",
    "    return '0'+str(number)"
   ]
  },
  {
   "cell_type": "code",
   "execution_count": 78,
   "id": "cc254223",
   "metadata": {},
   "outputs": [],
   "source": [
    "df['Pesel'] = df['Pesel'].apply(add_zero)"
   ]
  },
  {
   "cell_type": "code",
   "execution_count": 79,
   "id": "caff746f",
   "metadata": {},
   "outputs": [
    {
     "data": {
      "text/plain": [
       "Index(['lp', 'Nazwisko', 'imie1', 'imie2', 'Pesel', 'Zawód/klasa', 'Oryginal',\n",
       "       'Internat', 'J.polski', 'Matematyka', 'J.obcy', 'j.polski',\n",
       "       'matematyka', 'biologia', 'informatyka', 'swiadectwo',\n",
       "       'Konkursy_ponad_woj', 'konk_miedzy_nar', 'konk_wojew',\n",
       "       'Konkursy_ponad_woj_1', 'wys_msc', 'aktyw_spol'],\n",
       "      dtype='object')"
      ]
     },
     "execution_count": 79,
     "metadata": {},
     "output_type": "execute_result"
    }
   ],
   "source": [
    "df.columns"
   ]
  },
  {
   "cell_type": "code",
   "execution_count": 80,
   "id": "54c3550c",
   "metadata": {},
   "outputs": [
    {
     "name": "stderr",
     "output_type": "stream",
     "text": [
      "/tmp/ipykernel_8657/2422343870.py:1: SettingWithCopyWarning: \n",
      "A value is trying to be set on a copy of a slice from a DataFrame\n",
      "\n",
      "See the caveats in the documentation: https://pandas.pydata.org/pandas-docs/stable/user_guide/indexing.html#returning-a-view-versus-a-copy\n",
      "  df['imie2'].loc[df['imie2'].isnull()]=''\n"
     ]
    }
   ],
   "source": [
    "df['imie2'].loc[df['imie2'].isnull()]=''"
   ]
  },
  {
   "cell_type": "code",
   "execution_count": 81,
   "id": "50e09b92",
   "metadata": {},
   "outputs": [],
   "source": [
    "df['swiadectwo'].replace({'TAK': 7, 'NIE':0},inplace=True)"
   ]
  },
  {
   "cell_type": "code",
   "execution_count": 82,
   "id": "49c63ab8",
   "metadata": {},
   "outputs": [],
   "source": [
    "list_subjects = ['J.polski', 'Matematyka', 'J.obcy']\n",
    "list_subjects1 = ['J.obcy']"
   ]
  },
  {
   "cell_type": "code",
   "execution_count": 83,
   "id": "e3594771",
   "metadata": {},
   "outputs": [],
   "source": [
    "for sub in list_subjects:\n",
    "    df[sub]= df[sub]*0.35\n",
    "df[list_subjects1]= df[list_subjects1]*0.3"
   ]
  },
  {
   "cell_type": "code",
   "execution_count": 84,
   "id": "71685cf8",
   "metadata": {},
   "outputs": [
    {
     "name": "stderr",
     "output_type": "stream",
     "text": [
      "/tmp/ipykernel_8657/1327869557.py:2: SettingWithCopyWarning: \n",
      "A value is trying to be set on a copy of a slice from a DataFrame\n",
      "\n",
      "See the caveats in the documentation: https://pandas.pydata.org/pandas-docs/stable/user_guide/indexing.html#returning-a-view-versus-a-copy\n",
      "  df[sub][df[sub].isnull()]=0\n",
      "/tmp/ipykernel_8657/1327869557.py:2: SettingWithCopyWarning: \n",
      "A value is trying to be set on a copy of a slice from a DataFrame\n",
      "\n",
      "See the caveats in the documentation: https://pandas.pydata.org/pandas-docs/stable/user_guide/indexing.html#returning-a-view-versus-a-copy\n",
      "  df[sub][df[sub].isnull()]=0\n",
      "/tmp/ipykernel_8657/1327869557.py:2: SettingWithCopyWarning: \n",
      "A value is trying to be set on a copy of a slice from a DataFrame\n",
      "\n",
      "See the caveats in the documentation: https://pandas.pydata.org/pandas-docs/stable/user_guide/indexing.html#returning-a-view-versus-a-copy\n",
      "  df[sub][df[sub].isnull()]=0\n"
     ]
    }
   ],
   "source": [
    "for sub in list_subjects:\n",
    "    df[sub][df[sub].isnull()]=0"
   ]
  },
  {
   "cell_type": "code",
   "execution_count": 85,
   "id": "7db85315",
   "metadata": {},
   "outputs": [],
   "source": [
    "dict_marks = {2:2,3:8,4:14,5:17,6:18}\n",
    "col_subjects=df.columns[11:15]"
   ]
  },
  {
   "cell_type": "code",
   "execution_count": 86,
   "id": "b6646a4c",
   "metadata": {},
   "outputs": [
    {
     "data": {
      "text/plain": [
       "Index(['j.polski', 'matematyka', 'biologia', 'informatyka'], dtype='object')"
      ]
     },
     "execution_count": 86,
     "metadata": {},
     "output_type": "execute_result"
    }
   ],
   "source": [
    "col_subjects"
   ]
  },
  {
   "cell_type": "code",
   "execution_count": 87,
   "id": "15604a40",
   "metadata": {},
   "outputs": [],
   "source": [
    "for sub in col_subjects:\n",
    "    df.replace({sub: dict_marks},inplace=True)"
   ]
  },
  {
   "cell_type": "code",
   "execution_count": 88,
   "id": "170f8031",
   "metadata": {},
   "outputs": [
    {
     "data": {
      "text/plain": [
       "Index(['lp', 'Nazwisko', 'imie1', 'imie2', 'Pesel', 'Zawód/klasa', 'Oryginal',\n",
       "       'Internat', 'J.polski', 'Matematyka', 'J.obcy', 'j.polski',\n",
       "       'matematyka', 'biologia', 'informatyka', 'swiadectwo',\n",
       "       'Konkursy_ponad_woj', 'konk_miedzy_nar', 'konk_wojew',\n",
       "       'Konkursy_ponad_woj_1', 'wys_msc', 'aktyw_spol'],\n",
       "      dtype='object')"
      ]
     },
     "execution_count": 88,
     "metadata": {},
     "output_type": "execute_result"
    }
   ],
   "source": [
    "df.columns"
   ]
  },
  {
   "cell_type": "code",
   "execution_count": 89,
   "id": "492fab3f",
   "metadata": {},
   "outputs": [],
   "source": [
    "df['pkt'] = df[df.columns[8:]].sum(axis=1)"
   ]
  },
  {
   "cell_type": "markdown",
   "id": "e98f58b9",
   "metadata": {},
   "source": [
    "### Kontrolny podgląd bazy "
   ]
  },
  {
   "cell_type": "code",
   "execution_count": 90,
   "id": "c8121f3e",
   "metadata": {},
   "outputs": [
    {
     "data": {
      "text/html": [
       "<div>\n",
       "<style scoped>\n",
       "    .dataframe tbody tr th:only-of-type {\n",
       "        vertical-align: middle;\n",
       "    }\n",
       "\n",
       "    .dataframe tbody tr th {\n",
       "        vertical-align: top;\n",
       "    }\n",
       "\n",
       "    .dataframe thead th {\n",
       "        text-align: right;\n",
       "    }\n",
       "</style>\n",
       "<table border=\"1\" class=\"dataframe\">\n",
       "  <thead>\n",
       "    <tr style=\"text-align: right;\">\n",
       "      <th></th>\n",
       "      <th>lp</th>\n",
       "      <th>Nazwisko</th>\n",
       "      <th>imie1</th>\n",
       "      <th>imie2</th>\n",
       "      <th>Pesel</th>\n",
       "      <th>Zawód/klasa</th>\n",
       "      <th>Oryginal</th>\n",
       "      <th>Internat</th>\n",
       "      <th>J.polski</th>\n",
       "      <th>Matematyka</th>\n",
       "      <th>...</th>\n",
       "      <th>biologia</th>\n",
       "      <th>informatyka</th>\n",
       "      <th>swiadectwo</th>\n",
       "      <th>Konkursy_ponad_woj</th>\n",
       "      <th>konk_miedzy_nar</th>\n",
       "      <th>konk_wojew</th>\n",
       "      <th>Konkursy_ponad_woj_1</th>\n",
       "      <th>wys_msc</th>\n",
       "      <th>aktyw_spol</th>\n",
       "      <th>pkt</th>\n",
       "    </tr>\n",
       "  </thead>\n",
       "  <tbody>\n",
       "    <tr>\n",
       "      <th>0</th>\n",
       "      <td>1</td>\n",
       "      <td>andruszewski</td>\n",
       "      <td>Dawid</td>\n",
       "      <td>rrr</td>\n",
       "      <td>06292805679</td>\n",
       "      <td>TAK</td>\n",
       "      <td>oryginał</td>\n",
       "      <td>NIE</td>\n",
       "      <td>17.5</td>\n",
       "      <td>17.5</td>\n",
       "      <td>...</td>\n",
       "      <td>18.0</td>\n",
       "      <td>18.0</td>\n",
       "      <td>7</td>\n",
       "      <td>10.0</td>\n",
       "      <td>10.0</td>\n",
       "      <td>10.0</td>\n",
       "      <td>10.0</td>\n",
       "      <td>4.0</td>\n",
       "      <td>3.0</td>\n",
       "      <td>166.25</td>\n",
       "    </tr>\n",
       "    <tr>\n",
       "      <th>1</th>\n",
       "      <td>2</td>\n",
       "      <td>Betkowski</td>\n",
       "      <td>Paweł</td>\n",
       "      <td></td>\n",
       "      <td>06300108556</td>\n",
       "      <td>TMR</td>\n",
       "      <td>oryginał</td>\n",
       "      <td>NIE</td>\n",
       "      <td>0.0</td>\n",
       "      <td>0.0</td>\n",
       "      <td>...</td>\n",
       "      <td>2.0</td>\n",
       "      <td>2.0</td>\n",
       "      <td>0</td>\n",
       "      <td>0.0</td>\n",
       "      <td>0.0</td>\n",
       "      <td>7.0</td>\n",
       "      <td>0.0</td>\n",
       "      <td>0.0</td>\n",
       "      <td>0.0</td>\n",
       "      <td>15.00</td>\n",
       "    </tr>\n",
       "    <tr>\n",
       "      <th>2</th>\n",
       "      <td>3</td>\n",
       "      <td>Bieńkowski</td>\n",
       "      <td>Wojciech</td>\n",
       "      <td></td>\n",
       "      <td>06222605050</td>\n",
       "      <td>TMR</td>\n",
       "      <td>podanie</td>\n",
       "      <td>NIE</td>\n",
       "      <td>0.0</td>\n",
       "      <td>0.0</td>\n",
       "      <td>...</td>\n",
       "      <td>2.0</td>\n",
       "      <td>2.0</td>\n",
       "      <td>0</td>\n",
       "      <td>0.0</td>\n",
       "      <td>0.0</td>\n",
       "      <td>7.0</td>\n",
       "      <td>0.0</td>\n",
       "      <td>0.0</td>\n",
       "      <td>0.0</td>\n",
       "      <td>15.00</td>\n",
       "    </tr>\n",
       "    <tr>\n",
       "      <th>3</th>\n",
       "      <td>4</td>\n",
       "      <td>Błaszczak</td>\n",
       "      <td>Mateusz</td>\n",
       "      <td></td>\n",
       "      <td>06280907990</td>\n",
       "      <td>TMR</td>\n",
       "      <td>podanie</td>\n",
       "      <td>NIE</td>\n",
       "      <td>0.0</td>\n",
       "      <td>0.0</td>\n",
       "      <td>...</td>\n",
       "      <td>2.0</td>\n",
       "      <td>2.0</td>\n",
       "      <td>0</td>\n",
       "      <td>0.0</td>\n",
       "      <td>0.0</td>\n",
       "      <td>7.0</td>\n",
       "      <td>0.0</td>\n",
       "      <td>0.0</td>\n",
       "      <td>0.0</td>\n",
       "      <td>15.00</td>\n",
       "    </tr>\n",
       "    <tr>\n",
       "      <th>4</th>\n",
       "      <td>5</td>\n",
       "      <td>Bogdańska</td>\n",
       "      <td>Wiktoria</td>\n",
       "      <td></td>\n",
       "      <td>07221703121</td>\n",
       "      <td>TR</td>\n",
       "      <td>oryginał</td>\n",
       "      <td>NIE</td>\n",
       "      <td>0.0</td>\n",
       "      <td>0.0</td>\n",
       "      <td>...</td>\n",
       "      <td>2.0</td>\n",
       "      <td>2.0</td>\n",
       "      <td>0</td>\n",
       "      <td>0.0</td>\n",
       "      <td>0.0</td>\n",
       "      <td>7.0</td>\n",
       "      <td>0.0</td>\n",
       "      <td>0.0</td>\n",
       "      <td>0.0</td>\n",
       "      <td>15.00</td>\n",
       "    </tr>\n",
       "    <tr>\n",
       "      <th>...</th>\n",
       "      <td>...</td>\n",
       "      <td>...</td>\n",
       "      <td>...</td>\n",
       "      <td>...</td>\n",
       "      <td>...</td>\n",
       "      <td>...</td>\n",
       "      <td>...</td>\n",
       "      <td>...</td>\n",
       "      <td>...</td>\n",
       "      <td>...</td>\n",
       "      <td>...</td>\n",
       "      <td>...</td>\n",
       "      <td>...</td>\n",
       "      <td>...</td>\n",
       "      <td>...</td>\n",
       "      <td>...</td>\n",
       "      <td>...</td>\n",
       "      <td>...</td>\n",
       "      <td>...</td>\n",
       "      <td>...</td>\n",
       "      <td>...</td>\n",
       "    </tr>\n",
       "    <tr>\n",
       "      <th>107</th>\n",
       "      <td>108</td>\n",
       "      <td>Dobrzeniecka</td>\n",
       "      <td>Marta</td>\n",
       "      <td></td>\n",
       "      <td>06271101460</td>\n",
       "      <td>TŻ</td>\n",
       "      <td>podanie</td>\n",
       "      <td>NIE</td>\n",
       "      <td>0.0</td>\n",
       "      <td>0.0</td>\n",
       "      <td>...</td>\n",
       "      <td>2.0</td>\n",
       "      <td>2.0</td>\n",
       "      <td>0</td>\n",
       "      <td>0.0</td>\n",
       "      <td>0.0</td>\n",
       "      <td>7.0</td>\n",
       "      <td>0.0</td>\n",
       "      <td>0.0</td>\n",
       "      <td>0.0</td>\n",
       "      <td>15.00</td>\n",
       "    </tr>\n",
       "    <tr>\n",
       "      <th>108</th>\n",
       "      <td>109</td>\n",
       "      <td>Jaworska</td>\n",
       "      <td>Marta</td>\n",
       "      <td></td>\n",
       "      <td>04280805904</td>\n",
       "      <td>TR</td>\n",
       "      <td>podanie</td>\n",
       "      <td>NIE</td>\n",
       "      <td>0.0</td>\n",
       "      <td>0.0</td>\n",
       "      <td>...</td>\n",
       "      <td>2.0</td>\n",
       "      <td>2.0</td>\n",
       "      <td>0</td>\n",
       "      <td>0.0</td>\n",
       "      <td>0.0</td>\n",
       "      <td>7.0</td>\n",
       "      <td>0.0</td>\n",
       "      <td>0.0</td>\n",
       "      <td>0.0</td>\n",
       "      <td>15.00</td>\n",
       "    </tr>\n",
       "    <tr>\n",
       "      <th>109</th>\n",
       "      <td>110</td>\n",
       "      <td>Borowska</td>\n",
       "      <td>Julia</td>\n",
       "      <td>Zuzannna</td>\n",
       "      <td>06302407684</td>\n",
       "      <td>TW</td>\n",
       "      <td>podanie</td>\n",
       "      <td>NIE</td>\n",
       "      <td>0.0</td>\n",
       "      <td>0.0</td>\n",
       "      <td>...</td>\n",
       "      <td>2.0</td>\n",
       "      <td>2.0</td>\n",
       "      <td>0</td>\n",
       "      <td>0.0</td>\n",
       "      <td>0.0</td>\n",
       "      <td>7.0</td>\n",
       "      <td>0.0</td>\n",
       "      <td>0.0</td>\n",
       "      <td>0.0</td>\n",
       "      <td>15.00</td>\n",
       "    </tr>\n",
       "    <tr>\n",
       "      <th>110</th>\n",
       "      <td>111</td>\n",
       "      <td>Skarżyńska</td>\n",
       "      <td>Amelia</td>\n",
       "      <td></td>\n",
       "      <td>06281608609</td>\n",
       "      <td>TW</td>\n",
       "      <td>podanie</td>\n",
       "      <td>NIE</td>\n",
       "      <td>0.0</td>\n",
       "      <td>0.0</td>\n",
       "      <td>...</td>\n",
       "      <td>2.0</td>\n",
       "      <td>2.0</td>\n",
       "      <td>0</td>\n",
       "      <td>0.0</td>\n",
       "      <td>0.0</td>\n",
       "      <td>7.0</td>\n",
       "      <td>0.0</td>\n",
       "      <td>0.0</td>\n",
       "      <td>0.0</td>\n",
       "      <td>15.00</td>\n",
       "    </tr>\n",
       "    <tr>\n",
       "      <th>111</th>\n",
       "      <td>112</td>\n",
       "      <td>Szewczyk</td>\n",
       "      <td>sandra</td>\n",
       "      <td>Luiza</td>\n",
       "      <td>06251509341</td>\n",
       "      <td>TW</td>\n",
       "      <td>podanie</td>\n",
       "      <td>NIE</td>\n",
       "      <td>0.0</td>\n",
       "      <td>0.0</td>\n",
       "      <td>...</td>\n",
       "      <td>2.0</td>\n",
       "      <td>2.0</td>\n",
       "      <td>0</td>\n",
       "      <td>0.0</td>\n",
       "      <td>0.0</td>\n",
       "      <td>7.0</td>\n",
       "      <td>0.0</td>\n",
       "      <td>0.0</td>\n",
       "      <td>0.0</td>\n",
       "      <td>15.00</td>\n",
       "    </tr>\n",
       "  </tbody>\n",
       "</table>\n",
       "<p>112 rows × 23 columns</p>\n",
       "</div>"
      ],
      "text/plain": [
       "      lp      Nazwisko     imie1     imie2        Pesel Zawód/klasa  Oryginal  \\\n",
       "0      1  andruszewski     Dawid       rrr  06292805679         TAK  oryginał   \n",
       "1      2     Betkowski     Paweł            06300108556         TMR  oryginał   \n",
       "2      3    Bieńkowski  Wojciech            06222605050         TMR   podanie   \n",
       "3      4     Błaszczak   Mateusz            06280907990         TMR   podanie   \n",
       "4      5     Bogdańska  Wiktoria            07221703121          TR  oryginał   \n",
       "..   ...           ...       ...       ...          ...         ...       ...   \n",
       "107  108  Dobrzeniecka     Marta            06271101460          TŻ   podanie   \n",
       "108  109      Jaworska     Marta            04280805904          TR   podanie   \n",
       "109  110      Borowska     Julia  Zuzannna  06302407684          TW   podanie   \n",
       "110  111    Skarżyńska    Amelia            06281608609          TW   podanie   \n",
       "111  112      Szewczyk    sandra     Luiza  06251509341          TW   podanie   \n",
       "\n",
       "    Internat  J.polski  Matematyka  ...  biologia  informatyka  swiadectwo  \\\n",
       "0        NIE      17.5        17.5  ...      18.0         18.0           7   \n",
       "1        NIE       0.0         0.0  ...       2.0          2.0           0   \n",
       "2        NIE       0.0         0.0  ...       2.0          2.0           0   \n",
       "3        NIE       0.0         0.0  ...       2.0          2.0           0   \n",
       "4        NIE       0.0         0.0  ...       2.0          2.0           0   \n",
       "..       ...       ...         ...  ...       ...          ...         ...   \n",
       "107      NIE       0.0         0.0  ...       2.0          2.0           0   \n",
       "108      NIE       0.0         0.0  ...       2.0          2.0           0   \n",
       "109      NIE       0.0         0.0  ...       2.0          2.0           0   \n",
       "110      NIE       0.0         0.0  ...       2.0          2.0           0   \n",
       "111      NIE       0.0         0.0  ...       2.0          2.0           0   \n",
       "\n",
       "     Konkursy_ponad_woj  konk_miedzy_nar  konk_wojew  Konkursy_ponad_woj_1  \\\n",
       "0                  10.0             10.0        10.0                  10.0   \n",
       "1                   0.0              0.0         7.0                   0.0   \n",
       "2                   0.0              0.0         7.0                   0.0   \n",
       "3                   0.0              0.0         7.0                   0.0   \n",
       "4                   0.0              0.0         7.0                   0.0   \n",
       "..                  ...              ...         ...                   ...   \n",
       "107                 0.0              0.0         7.0                   0.0   \n",
       "108                 0.0              0.0         7.0                   0.0   \n",
       "109                 0.0              0.0         7.0                   0.0   \n",
       "110                 0.0              0.0         7.0                   0.0   \n",
       "111                 0.0              0.0         7.0                   0.0   \n",
       "\n",
       "     wys_msc  aktyw_spol     pkt  \n",
       "0        4.0         3.0  166.25  \n",
       "1        0.0         0.0   15.00  \n",
       "2        0.0         0.0   15.00  \n",
       "3        0.0         0.0   15.00  \n",
       "4        0.0         0.0   15.00  \n",
       "..       ...         ...     ...  \n",
       "107      0.0         0.0   15.00  \n",
       "108      0.0         0.0   15.00  \n",
       "109      0.0         0.0   15.00  \n",
       "110      0.0         0.0   15.00  \n",
       "111      0.0         0.0   15.00  \n",
       "\n",
       "[112 rows x 23 columns]"
      ]
     },
     "execution_count": 90,
     "metadata": {},
     "output_type": "execute_result"
    }
   ],
   "source": [
    "df"
   ]
  },
  {
   "cell_type": "markdown",
   "id": "880f95cc",
   "metadata": {},
   "source": [
    "<b><font size=\"+3\" color=\"red\">Oryginały</b>"
   ]
  },
  {
   "cell_type": "markdown",
   "id": "a5901189",
   "metadata": {},
   "source": [
    "### Lista oryginałów"
   ]
  },
  {
   "cell_type": "code",
   "execution_count": 91,
   "id": "3117f37e",
   "metadata": {},
   "outputs": [
    {
     "data": {
      "text/html": [
       "<div>\n",
       "<style scoped>\n",
       "    .dataframe tbody tr th:only-of-type {\n",
       "        vertical-align: middle;\n",
       "    }\n",
       "\n",
       "    .dataframe tbody tr th {\n",
       "        vertical-align: top;\n",
       "    }\n",
       "\n",
       "    .dataframe thead th {\n",
       "        text-align: right;\n",
       "    }\n",
       "</style>\n",
       "<table border=\"1\" class=\"dataframe\">\n",
       "  <thead>\n",
       "    <tr style=\"text-align: right;\">\n",
       "      <th></th>\n",
       "      <th>lp</th>\n",
       "      <th>Nazwisko</th>\n",
       "      <th>imie1</th>\n",
       "      <th>imie2</th>\n",
       "      <th>Pesel</th>\n",
       "      <th>Zawód/klasa</th>\n",
       "      <th>Oryginal</th>\n",
       "      <th>Internat</th>\n",
       "      <th>J.polski</th>\n",
       "      <th>Matematyka</th>\n",
       "      <th>...</th>\n",
       "      <th>biologia</th>\n",
       "      <th>informatyka</th>\n",
       "      <th>swiadectwo</th>\n",
       "      <th>Konkursy_ponad_woj</th>\n",
       "      <th>konk_miedzy_nar</th>\n",
       "      <th>konk_wojew</th>\n",
       "      <th>Konkursy_ponad_woj_1</th>\n",
       "      <th>wys_msc</th>\n",
       "      <th>aktyw_spol</th>\n",
       "      <th>pkt</th>\n",
       "    </tr>\n",
       "  </thead>\n",
       "  <tbody>\n",
       "    <tr>\n",
       "      <th>0</th>\n",
       "      <td>1</td>\n",
       "      <td>andruszewski</td>\n",
       "      <td>Dawid</td>\n",
       "      <td>rrr</td>\n",
       "      <td>06292805679</td>\n",
       "      <td>TAK</td>\n",
       "      <td>oryginał</td>\n",
       "      <td>NIE</td>\n",
       "      <td>17.5</td>\n",
       "      <td>17.5</td>\n",
       "      <td>...</td>\n",
       "      <td>18.0</td>\n",
       "      <td>18.0</td>\n",
       "      <td>7</td>\n",
       "      <td>10.0</td>\n",
       "      <td>10.0</td>\n",
       "      <td>10.0</td>\n",
       "      <td>10.0</td>\n",
       "      <td>4.0</td>\n",
       "      <td>3.0</td>\n",
       "      <td>166.25</td>\n",
       "    </tr>\n",
       "    <tr>\n",
       "      <th>1</th>\n",
       "      <td>2</td>\n",
       "      <td>Betkowski</td>\n",
       "      <td>Paweł</td>\n",
       "      <td></td>\n",
       "      <td>06300108556</td>\n",
       "      <td>TMR</td>\n",
       "      <td>oryginał</td>\n",
       "      <td>NIE</td>\n",
       "      <td>0.0</td>\n",
       "      <td>0.0</td>\n",
       "      <td>...</td>\n",
       "      <td>2.0</td>\n",
       "      <td>2.0</td>\n",
       "      <td>0</td>\n",
       "      <td>0.0</td>\n",
       "      <td>0.0</td>\n",
       "      <td>7.0</td>\n",
       "      <td>0.0</td>\n",
       "      <td>0.0</td>\n",
       "      <td>0.0</td>\n",
       "      <td>15.00</td>\n",
       "    </tr>\n",
       "    <tr>\n",
       "      <th>4</th>\n",
       "      <td>5</td>\n",
       "      <td>Bogdańska</td>\n",
       "      <td>Wiktoria</td>\n",
       "      <td></td>\n",
       "      <td>07221703121</td>\n",
       "      <td>TR</td>\n",
       "      <td>oryginał</td>\n",
       "      <td>NIE</td>\n",
       "      <td>0.0</td>\n",
       "      <td>0.0</td>\n",
       "      <td>...</td>\n",
       "      <td>2.0</td>\n",
       "      <td>2.0</td>\n",
       "      <td>0</td>\n",
       "      <td>0.0</td>\n",
       "      <td>0.0</td>\n",
       "      <td>7.0</td>\n",
       "      <td>0.0</td>\n",
       "      <td>0.0</td>\n",
       "      <td>0.0</td>\n",
       "      <td>15.00</td>\n",
       "    </tr>\n",
       "    <tr>\n",
       "      <th>10</th>\n",
       "      <td>11</td>\n",
       "      <td>Cackowska</td>\n",
       "      <td>Patrycja</td>\n",
       "      <td></td>\n",
       "      <td>06250801369</td>\n",
       "      <td>TMR</td>\n",
       "      <td>oryginał</td>\n",
       "      <td>NIE</td>\n",
       "      <td>0.0</td>\n",
       "      <td>0.0</td>\n",
       "      <td>...</td>\n",
       "      <td>2.0</td>\n",
       "      <td>2.0</td>\n",
       "      <td>0</td>\n",
       "      <td>0.0</td>\n",
       "      <td>0.0</td>\n",
       "      <td>7.0</td>\n",
       "      <td>0.0</td>\n",
       "      <td>0.0</td>\n",
       "      <td>0.0</td>\n",
       "      <td>15.00</td>\n",
       "    </tr>\n",
       "    <tr>\n",
       "      <th>11</th>\n",
       "      <td>12</td>\n",
       "      <td>Chmielewski</td>\n",
       "      <td>Adrian</td>\n",
       "      <td></td>\n",
       "      <td>06241210190</td>\n",
       "      <td>TMR</td>\n",
       "      <td>oryginał</td>\n",
       "      <td>NIE</td>\n",
       "      <td>0.0</td>\n",
       "      <td>0.0</td>\n",
       "      <td>...</td>\n",
       "      <td>2.0</td>\n",
       "      <td>2.0</td>\n",
       "      <td>0</td>\n",
       "      <td>0.0</td>\n",
       "      <td>0.0</td>\n",
       "      <td>7.0</td>\n",
       "      <td>0.0</td>\n",
       "      <td>0.0</td>\n",
       "      <td>0.0</td>\n",
       "      <td>15.00</td>\n",
       "    </tr>\n",
       "    <tr>\n",
       "      <th>12</th>\n",
       "      <td>13</td>\n",
       "      <td>Ciarczyńska</td>\n",
       "      <td>Oliwia</td>\n",
       "      <td></td>\n",
       "      <td>07231905029</td>\n",
       "      <td>TMR</td>\n",
       "      <td>oryginał</td>\n",
       "      <td>NIE</td>\n",
       "      <td>0.0</td>\n",
       "      <td>0.0</td>\n",
       "      <td>...</td>\n",
       "      <td>2.0</td>\n",
       "      <td>2.0</td>\n",
       "      <td>0</td>\n",
       "      <td>0.0</td>\n",
       "      <td>0.0</td>\n",
       "      <td>7.0</td>\n",
       "      <td>0.0</td>\n",
       "      <td>0.0</td>\n",
       "      <td>0.0</td>\n",
       "      <td>15.00</td>\n",
       "    </tr>\n",
       "  </tbody>\n",
       "</table>\n",
       "<p>6 rows × 23 columns</p>\n",
       "</div>"
      ],
      "text/plain": [
       "    lp      Nazwisko     imie1 imie2        Pesel Zawód/klasa  Oryginal  \\\n",
       "0    1  andruszewski     Dawid   rrr  06292805679         TAK  oryginał   \n",
       "1    2     Betkowski     Paweł        06300108556         TMR  oryginał   \n",
       "4    5     Bogdańska  Wiktoria        07221703121          TR  oryginał   \n",
       "10  11     Cackowska  Patrycja        06250801369         TMR  oryginał   \n",
       "11  12   Chmielewski    Adrian        06241210190         TMR  oryginał   \n",
       "12  13   Ciarczyńska    Oliwia        07231905029         TMR  oryginał   \n",
       "\n",
       "   Internat  J.polski  Matematyka  ...  biologia  informatyka  swiadectwo  \\\n",
       "0       NIE      17.5        17.5  ...      18.0         18.0           7   \n",
       "1       NIE       0.0         0.0  ...       2.0          2.0           0   \n",
       "4       NIE       0.0         0.0  ...       2.0          2.0           0   \n",
       "10      NIE       0.0         0.0  ...       2.0          2.0           0   \n",
       "11      NIE       0.0         0.0  ...       2.0          2.0           0   \n",
       "12      NIE       0.0         0.0  ...       2.0          2.0           0   \n",
       "\n",
       "    Konkursy_ponad_woj  konk_miedzy_nar  konk_wojew  Konkursy_ponad_woj_1  \\\n",
       "0                 10.0             10.0        10.0                  10.0   \n",
       "1                  0.0              0.0         7.0                   0.0   \n",
       "4                  0.0              0.0         7.0                   0.0   \n",
       "10                 0.0              0.0         7.0                   0.0   \n",
       "11                 0.0              0.0         7.0                   0.0   \n",
       "12                 0.0              0.0         7.0                   0.0   \n",
       "\n",
       "    wys_msc  aktyw_spol     pkt  \n",
       "0       4.0         3.0  166.25  \n",
       "1       0.0         0.0   15.00  \n",
       "4       0.0         0.0   15.00  \n",
       "10      0.0         0.0   15.00  \n",
       "11      0.0         0.0   15.00  \n",
       "12      0.0         0.0   15.00  \n",
       "\n",
       "[6 rows x 23 columns]"
      ]
     },
     "execution_count": 91,
     "metadata": {},
     "output_type": "execute_result"
    }
   ],
   "source": [
    "df[df.Oryginal=='oryginał'].sort_values(by='pkt', ascending=False)"
   ]
  },
  {
   "cell_type": "code",
   "execution_count": 92,
   "id": "766979a2",
   "metadata": {},
   "outputs": [],
   "source": [
    "df_oryg = df[df.Oryginal=='oryginał'].sort_values(by='pkt', ascending=False)"
   ]
  },
  {
   "cell_type": "code",
   "execution_count": 93,
   "id": "18129ca6",
   "metadata": {},
   "outputs": [],
   "source": [
    "value_list = list(df_oryg['Zawód/klasa'].unique())"
   ]
  },
  {
   "cell_type": "markdown",
   "id": "f63c52e7",
   "metadata": {},
   "source": [
    "### Ilość oryginałów"
   ]
  },
  {
   "cell_type": "code",
   "execution_count": 94,
   "id": "4ee231c8",
   "metadata": {},
   "outputs": [
    {
     "data": {
      "text/html": [
       "<div>\n",
       "<style scoped>\n",
       "    .dataframe tbody tr th:only-of-type {\n",
       "        vertical-align: middle;\n",
       "    }\n",
       "\n",
       "    .dataframe tbody tr th {\n",
       "        vertical-align: top;\n",
       "    }\n",
       "\n",
       "    .dataframe thead th {\n",
       "        text-align: right;\n",
       "    }\n",
       "</style>\n",
       "<table border=\"1\" class=\"dataframe\">\n",
       "  <thead>\n",
       "    <tr style=\"text-align: right;\">\n",
       "      <th></th>\n",
       "      <th>ilość oryginałów</th>\n",
       "    </tr>\n",
       "    <tr>\n",
       "      <th>Zawód/klasa</th>\n",
       "      <th></th>\n",
       "    </tr>\n",
       "  </thead>\n",
       "  <tbody>\n",
       "    <tr>\n",
       "      <th>TAK</th>\n",
       "      <td>1</td>\n",
       "    </tr>\n",
       "    <tr>\n",
       "      <th>TMR</th>\n",
       "      <td>4</td>\n",
       "    </tr>\n",
       "    <tr>\n",
       "      <th>TR</th>\n",
       "      <td>1</td>\n",
       "    </tr>\n",
       "  </tbody>\n",
       "</table>\n",
       "</div>"
      ],
      "text/plain": [
       "             ilość oryginałów\n",
       "Zawód/klasa                  \n",
       "TAK                         1\n",
       "TMR                         4\n",
       "TR                          1"
      ]
     },
     "execution_count": 94,
     "metadata": {},
     "output_type": "execute_result"
    }
   ],
   "source": [
    "df_oryg.groupby('Zawód/klasa').count()[['lp']].rename(columns={\"lp\": \"ilość oryginałów\"})"
   ]
  },
  {
   "cell_type": "markdown",
   "id": "aa470d34",
   "metadata": {},
   "source": [
    "### Przegląd oryginałów według pkt"
   ]
  },
  {
   "cell_type": "code",
   "execution_count": 95,
   "id": "f99231ba",
   "metadata": {},
   "outputs": [
    {
     "data": {
      "application/vnd.jupyter.widget-view+json": {
       "model_id": "eb92cbbab7d6424897ab599702fc8f65",
       "version_major": 2,
       "version_minor": 0
      },
      "text/plain": [
       "interactive(children=(Dropdown(description='column', options=('pkt',), value='pkt'), IntSlider(value=100, desc…"
      ]
     },
     "metadata": {},
     "output_type": "display_data"
    }
   ],
   "source": [
    "list_col=['lp','Nazwisko','imie1','imie2','Zawód/klasa','pkt']\n",
    "@interact\n",
    "def show_oryg_by_pkt(column=['pkt'], \n",
    "                            x=(0,200)):\n",
    "    return df_oryg.loc[df_oryg[column] > x].loc[:,list_col]"
   ]
  },
  {
   "cell_type": "markdown",
   "id": "806d82b4",
   "metadata": {},
   "source": [
    "### Podział na klasy"
   ]
  },
  {
   "cell_type": "code",
   "execution_count": 96,
   "id": "5e9fcdfe",
   "metadata": {},
   "outputs": [
    {
     "data": {
      "text/html": [
       "<style>\n",
       ".output {\n",
       "    flex-direction: column;\n",
       "}\n",
       "</style>"
      ],
      "text/plain": [
       "<IPython.core.display.HTML object>"
      ]
     },
     "execution_count": 96,
     "metadata": {},
     "output_type": "execute_result"
    }
   ],
   "source": [
    "from IPython.display import display, HTML\n",
    "\n",
    "css = \"\"\"\n",
    ".output {\n",
    "    flex-direction: column;\n",
    "}\n",
    "\"\"\"\n",
    "\n",
    "HTML('<style>{}</style>'.format(css))"
   ]
  },
  {
   "cell_type": "code",
   "execution_count": 97,
   "id": "8141335a",
   "metadata": {},
   "outputs": [
    {
     "data": {
      "text/html": [
       "<div>\n",
       "<style scoped>\n",
       "    .dataframe tbody tr th:only-of-type {\n",
       "        vertical-align: middle;\n",
       "    }\n",
       "\n",
       "    .dataframe tbody tr th {\n",
       "        vertical-align: top;\n",
       "    }\n",
       "\n",
       "    .dataframe thead th {\n",
       "        text-align: right;\n",
       "    }\n",
       "</style>\n",
       "<table border=\"1\" class=\"dataframe\">\n",
       "  <thead>\n",
       "    <tr style=\"text-align: right;\">\n",
       "      <th></th>\n",
       "      <th>lp</th>\n",
       "      <th>Nazwisko</th>\n",
       "      <th>imie1</th>\n",
       "      <th>imie2</th>\n",
       "      <th>Zawód/klasa</th>\n",
       "      <th>pkt</th>\n",
       "    </tr>\n",
       "  </thead>\n",
       "  <tbody>\n",
       "    <tr>\n",
       "      <th>0</th>\n",
       "      <td>1</td>\n",
       "      <td>andruszewski</td>\n",
       "      <td>Dawid</td>\n",
       "      <td>rrr</td>\n",
       "      <td>TAK</td>\n",
       "      <td>166.25</td>\n",
       "    </tr>\n",
       "  </tbody>\n",
       "</table>\n",
       "</div>"
      ],
      "text/plain": [
       "   lp      Nazwisko  imie1 imie2 Zawód/klasa     pkt\n",
       "0   1  andruszewski  Dawid   rrr         TAK  166.25"
      ]
     },
     "metadata": {},
     "output_type": "display_data"
    },
    {
     "data": {
      "text/html": [
       "<div>\n",
       "<style scoped>\n",
       "    .dataframe tbody tr th:only-of-type {\n",
       "        vertical-align: middle;\n",
       "    }\n",
       "\n",
       "    .dataframe tbody tr th {\n",
       "        vertical-align: top;\n",
       "    }\n",
       "\n",
       "    .dataframe thead th {\n",
       "        text-align: right;\n",
       "    }\n",
       "</style>\n",
       "<table border=\"1\" class=\"dataframe\">\n",
       "  <thead>\n",
       "    <tr style=\"text-align: right;\">\n",
       "      <th></th>\n",
       "      <th>lp</th>\n",
       "      <th>Nazwisko</th>\n",
       "      <th>imie1</th>\n",
       "      <th>imie2</th>\n",
       "      <th>Zawód/klasa</th>\n",
       "      <th>pkt</th>\n",
       "    </tr>\n",
       "  </thead>\n",
       "  <tbody>\n",
       "    <tr>\n",
       "      <th>1</th>\n",
       "      <td>2</td>\n",
       "      <td>Betkowski</td>\n",
       "      <td>Paweł</td>\n",
       "      <td></td>\n",
       "      <td>TMR</td>\n",
       "      <td>15.0</td>\n",
       "    </tr>\n",
       "    <tr>\n",
       "      <th>10</th>\n",
       "      <td>11</td>\n",
       "      <td>Cackowska</td>\n",
       "      <td>Patrycja</td>\n",
       "      <td></td>\n",
       "      <td>TMR</td>\n",
       "      <td>15.0</td>\n",
       "    </tr>\n",
       "    <tr>\n",
       "      <th>11</th>\n",
       "      <td>12</td>\n",
       "      <td>Chmielewski</td>\n",
       "      <td>Adrian</td>\n",
       "      <td></td>\n",
       "      <td>TMR</td>\n",
       "      <td>15.0</td>\n",
       "    </tr>\n",
       "    <tr>\n",
       "      <th>12</th>\n",
       "      <td>13</td>\n",
       "      <td>Ciarczyńska</td>\n",
       "      <td>Oliwia</td>\n",
       "      <td></td>\n",
       "      <td>TMR</td>\n",
       "      <td>15.0</td>\n",
       "    </tr>\n",
       "  </tbody>\n",
       "</table>\n",
       "</div>"
      ],
      "text/plain": [
       "    lp     Nazwisko     imie1 imie2 Zawód/klasa   pkt\n",
       "1    2    Betkowski     Paweł               TMR  15.0\n",
       "10  11    Cackowska  Patrycja               TMR  15.0\n",
       "11  12  Chmielewski    Adrian               TMR  15.0\n",
       "12  13  Ciarczyńska    Oliwia               TMR  15.0"
      ]
     },
     "metadata": {},
     "output_type": "display_data"
    },
    {
     "data": {
      "text/html": [
       "<div>\n",
       "<style scoped>\n",
       "    .dataframe tbody tr th:only-of-type {\n",
       "        vertical-align: middle;\n",
       "    }\n",
       "\n",
       "    .dataframe tbody tr th {\n",
       "        vertical-align: top;\n",
       "    }\n",
       "\n",
       "    .dataframe thead th {\n",
       "        text-align: right;\n",
       "    }\n",
       "</style>\n",
       "<table border=\"1\" class=\"dataframe\">\n",
       "  <thead>\n",
       "    <tr style=\"text-align: right;\">\n",
       "      <th></th>\n",
       "      <th>lp</th>\n",
       "      <th>Nazwisko</th>\n",
       "      <th>imie1</th>\n",
       "      <th>imie2</th>\n",
       "      <th>Zawód/klasa</th>\n",
       "      <th>pkt</th>\n",
       "    </tr>\n",
       "  </thead>\n",
       "  <tbody>\n",
       "    <tr>\n",
       "      <th>4</th>\n",
       "      <td>5</td>\n",
       "      <td>Bogdańska</td>\n",
       "      <td>Wiktoria</td>\n",
       "      <td></td>\n",
       "      <td>TR</td>\n",
       "      <td>15.0</td>\n",
       "    </tr>\n",
       "  </tbody>\n",
       "</table>\n",
       "</div>"
      ],
      "text/plain": [
       "   lp   Nazwisko     imie1 imie2 Zawód/klasa   pkt\n",
       "4   5  Bogdańska  Wiktoria                TR  15.0"
      ]
     },
     "metadata": {},
     "output_type": "display_data"
    }
   ],
   "source": [
    "list_col=['lp','Nazwisko','imie1','imie2','Zawód/klasa','pkt']\n",
    "\n",
    "for val in value_list:   \n",
    "#     df_oryg.index = ['']\n",
    "\n",
    "    \n",
    "    df_oryg[df_oryg['Zawód/klasa']==val].loc[:,list_col].to_html('oryginal/'+str(val)+'.html', index=False)\n",
    "    display(df_oryg[df_oryg['Zawód/klasa']==val].loc[:,list_col])\n",
    "    "
   ]
  },
  {
   "cell_type": "markdown",
   "id": "e194b47d",
   "metadata": {},
   "source": [
    "<b><font size=\"+3\" color=\"red\">Kopie</b>"
   ]
  },
  {
   "cell_type": "markdown",
   "id": "c5cd831f",
   "metadata": {},
   "source": [
    "## Lista kopii\n"
   ]
  },
  {
   "cell_type": "code",
   "execution_count": 98,
   "id": "a40bcfb8",
   "metadata": {},
   "outputs": [
    {
     "data": {
      "text/html": [
       "<div>\n",
       "<style scoped>\n",
       "    .dataframe tbody tr th:only-of-type {\n",
       "        vertical-align: middle;\n",
       "    }\n",
       "\n",
       "    .dataframe tbody tr th {\n",
       "        vertical-align: top;\n",
       "    }\n",
       "\n",
       "    .dataframe thead th {\n",
       "        text-align: right;\n",
       "    }\n",
       "</style>\n",
       "<table border=\"1\" class=\"dataframe\">\n",
       "  <thead>\n",
       "    <tr style=\"text-align: right;\">\n",
       "      <th></th>\n",
       "      <th>lp</th>\n",
       "      <th>Nazwisko</th>\n",
       "      <th>imie1</th>\n",
       "      <th>imie2</th>\n",
       "      <th>Pesel</th>\n",
       "      <th>Zawód/klasa</th>\n",
       "      <th>Oryginal</th>\n",
       "      <th>Internat</th>\n",
       "      <th>J.polski</th>\n",
       "      <th>Matematyka</th>\n",
       "      <th>...</th>\n",
       "      <th>biologia</th>\n",
       "      <th>informatyka</th>\n",
       "      <th>swiadectwo</th>\n",
       "      <th>Konkursy_ponad_woj</th>\n",
       "      <th>konk_miedzy_nar</th>\n",
       "      <th>konk_wojew</th>\n",
       "      <th>Konkursy_ponad_woj_1</th>\n",
       "      <th>wys_msc</th>\n",
       "      <th>aktyw_spol</th>\n",
       "      <th>pkt</th>\n",
       "    </tr>\n",
       "  </thead>\n",
       "  <tbody>\n",
       "    <tr>\n",
       "      <th>8</th>\n",
       "      <td>9</td>\n",
       "      <td>Brzozowski</td>\n",
       "      <td>Stanisław</td>\n",
       "      <td></td>\n",
       "      <td>07242406438</td>\n",
       "      <td>TW</td>\n",
       "      <td>kopia</td>\n",
       "      <td>NIE</td>\n",
       "      <td>0.0</td>\n",
       "      <td>0.0</td>\n",
       "      <td>...</td>\n",
       "      <td>2.0</td>\n",
       "      <td>2.0</td>\n",
       "      <td>0</td>\n",
       "      <td>0.0</td>\n",
       "      <td>0.0</td>\n",
       "      <td>7.0</td>\n",
       "      <td>0.0</td>\n",
       "      <td>0.0</td>\n",
       "      <td>0.0</td>\n",
       "      <td>15.0</td>\n",
       "    </tr>\n",
       "    <tr>\n",
       "      <th>9</th>\n",
       "      <td>10</td>\n",
       "      <td>Brzozowski</td>\n",
       "      <td>Igor</td>\n",
       "      <td></td>\n",
       "      <td>06272604436</td>\n",
       "      <td>TMR</td>\n",
       "      <td>kopia</td>\n",
       "      <td>NIE</td>\n",
       "      <td>0.0</td>\n",
       "      <td>0.0</td>\n",
       "      <td>...</td>\n",
       "      <td>2.0</td>\n",
       "      <td>2.0</td>\n",
       "      <td>0</td>\n",
       "      <td>0.0</td>\n",
       "      <td>0.0</td>\n",
       "      <td>7.0</td>\n",
       "      <td>0.0</td>\n",
       "      <td>0.0</td>\n",
       "      <td>0.0</td>\n",
       "      <td>15.0</td>\n",
       "    </tr>\n",
       "  </tbody>\n",
       "</table>\n",
       "<p>2 rows × 23 columns</p>\n",
       "</div>"
      ],
      "text/plain": [
       "   lp    Nazwisko      imie1 imie2        Pesel Zawód/klasa Oryginal Internat  \\\n",
       "8   9  Brzozowski  Stanisław        07242406438          TW    kopia      NIE   \n",
       "9  10  Brzozowski       Igor        06272604436         TMR    kopia      NIE   \n",
       "\n",
       "   J.polski  Matematyka  ...  biologia  informatyka  swiadectwo  \\\n",
       "8       0.0         0.0  ...       2.0          2.0           0   \n",
       "9       0.0         0.0  ...       2.0          2.0           0   \n",
       "\n",
       "   Konkursy_ponad_woj  konk_miedzy_nar  konk_wojew  Konkursy_ponad_woj_1  \\\n",
       "8                 0.0              0.0         7.0                   0.0   \n",
       "9                 0.0              0.0         7.0                   0.0   \n",
       "\n",
       "   wys_msc  aktyw_spol   pkt  \n",
       "8      0.0         0.0  15.0  \n",
       "9      0.0         0.0  15.0  \n",
       "\n",
       "[2 rows x 23 columns]"
      ]
     },
     "execution_count": 98,
     "metadata": {},
     "output_type": "execute_result"
    }
   ],
   "source": [
    "df[df.Oryginal=='kopia'].sort_values(by='pkt', ascending=False)"
   ]
  },
  {
   "cell_type": "markdown",
   "id": "9349e6c2",
   "metadata": {},
   "source": [
    "### Ilość kopii"
   ]
  },
  {
   "cell_type": "code",
   "execution_count": 99,
   "id": "a72d9e25",
   "metadata": {},
   "outputs": [
    {
     "data": {
      "text/html": [
       "<div>\n",
       "<style scoped>\n",
       "    .dataframe tbody tr th:only-of-type {\n",
       "        vertical-align: middle;\n",
       "    }\n",
       "\n",
       "    .dataframe tbody tr th {\n",
       "        vertical-align: top;\n",
       "    }\n",
       "\n",
       "    .dataframe thead th {\n",
       "        text-align: right;\n",
       "    }\n",
       "</style>\n",
       "<table border=\"1\" class=\"dataframe\">\n",
       "  <thead>\n",
       "    <tr style=\"text-align: right;\">\n",
       "      <th></th>\n",
       "      <th>ilość kopii</th>\n",
       "    </tr>\n",
       "    <tr>\n",
       "      <th>Zawód/klasa</th>\n",
       "      <th></th>\n",
       "    </tr>\n",
       "  </thead>\n",
       "  <tbody>\n",
       "    <tr>\n",
       "      <th>TMR</th>\n",
       "      <td>1</td>\n",
       "    </tr>\n",
       "    <tr>\n",
       "      <th>TW</th>\n",
       "      <td>1</td>\n",
       "    </tr>\n",
       "  </tbody>\n",
       "</table>\n",
       "</div>"
      ],
      "text/plain": [
       "             ilość kopii\n",
       "Zawód/klasa             \n",
       "TMR                    1\n",
       "TW                     1"
      ]
     },
     "execution_count": 99,
     "metadata": {},
     "output_type": "execute_result"
    }
   ],
   "source": [
    "df_kopia = df[df.Oryginal=='kopia']\n",
    "value_list = list(df_kopia['Zawód/klasa'].unique())\n",
    "df_kopia.groupby('Zawód/klasa').count()[['lp']].rename(columns={\"lp\": \"ilość kopii\"})"
   ]
  },
  {
   "cell_type": "markdown",
   "id": "9a097204",
   "metadata": {},
   "source": [
    "### Przegląd kopii według pkt"
   ]
  },
  {
   "cell_type": "code",
   "execution_count": 100,
   "id": "192797b7",
   "metadata": {
    "scrolled": true
   },
   "outputs": [
    {
     "data": {
      "application/vnd.jupyter.widget-view+json": {
       "model_id": "34b63060dec94eed863121b530eb5f43",
       "version_major": 2,
       "version_minor": 0
      },
      "text/plain": [
       "interactive(children=(Dropdown(description='column', options=('pkt',), value='pkt'), IntSlider(value=100, desc…"
      ]
     },
     "metadata": {},
     "output_type": "display_data"
    }
   ],
   "source": [
    "@interact\n",
    "def show_copy_by_pkt(column=['pkt'], \n",
    "                            x=(0,200)):\n",
    "    return df_kopia.loc[df_kopia[column] > x].loc[:,list_col]"
   ]
  },
  {
   "cell_type": "markdown",
   "id": "52b73ef2",
   "metadata": {},
   "source": [
    "### Podział na klasy"
   ]
  },
  {
   "cell_type": "code",
   "execution_count": 101,
   "id": "a9453623",
   "metadata": {},
   "outputs": [
    {
     "data": {
      "text/html": [
       "<div>\n",
       "<style scoped>\n",
       "    .dataframe tbody tr th:only-of-type {\n",
       "        vertical-align: middle;\n",
       "    }\n",
       "\n",
       "    .dataframe tbody tr th {\n",
       "        vertical-align: top;\n",
       "    }\n",
       "\n",
       "    .dataframe thead th {\n",
       "        text-align: right;\n",
       "    }\n",
       "</style>\n",
       "<table border=\"1\" class=\"dataframe\">\n",
       "  <thead>\n",
       "    <tr style=\"text-align: right;\">\n",
       "      <th></th>\n",
       "      <th>lp</th>\n",
       "      <th>Nazwisko</th>\n",
       "      <th>imie1</th>\n",
       "      <th>imie2</th>\n",
       "      <th>Zawód/klasa</th>\n",
       "      <th>pkt</th>\n",
       "    </tr>\n",
       "  </thead>\n",
       "  <tbody>\n",
       "    <tr>\n",
       "      <th>8</th>\n",
       "      <td>9</td>\n",
       "      <td>Brzozowski</td>\n",
       "      <td>Stanisław</td>\n",
       "      <td></td>\n",
       "      <td>TW</td>\n",
       "      <td>15.0</td>\n",
       "    </tr>\n",
       "  </tbody>\n",
       "</table>\n",
       "</div>"
      ],
      "text/plain": [
       "   lp    Nazwisko      imie1 imie2 Zawód/klasa   pkt\n",
       "8   9  Brzozowski  Stanisław                TW  15.0"
      ]
     },
     "metadata": {},
     "output_type": "display_data"
    },
    {
     "data": {
      "text/html": [
       "<div>\n",
       "<style scoped>\n",
       "    .dataframe tbody tr th:only-of-type {\n",
       "        vertical-align: middle;\n",
       "    }\n",
       "\n",
       "    .dataframe tbody tr th {\n",
       "        vertical-align: top;\n",
       "    }\n",
       "\n",
       "    .dataframe thead th {\n",
       "        text-align: right;\n",
       "    }\n",
       "</style>\n",
       "<table border=\"1\" class=\"dataframe\">\n",
       "  <thead>\n",
       "    <tr style=\"text-align: right;\">\n",
       "      <th></th>\n",
       "      <th>lp</th>\n",
       "      <th>Nazwisko</th>\n",
       "      <th>imie1</th>\n",
       "      <th>imie2</th>\n",
       "      <th>Zawód/klasa</th>\n",
       "      <th>pkt</th>\n",
       "    </tr>\n",
       "  </thead>\n",
       "  <tbody>\n",
       "    <tr>\n",
       "      <th>9</th>\n",
       "      <td>10</td>\n",
       "      <td>Brzozowski</td>\n",
       "      <td>Igor</td>\n",
       "      <td></td>\n",
       "      <td>TMR</td>\n",
       "      <td>15.0</td>\n",
       "    </tr>\n",
       "  </tbody>\n",
       "</table>\n",
       "</div>"
      ],
      "text/plain": [
       "   lp    Nazwisko imie1 imie2 Zawód/klasa   pkt\n",
       "9  10  Brzozowski  Igor               TMR  15.0"
      ]
     },
     "metadata": {},
     "output_type": "display_data"
    }
   ],
   "source": [
    "list_col=['lp','Nazwisko','imie1','imie2','Zawód/klasa','pkt']\n",
    "  \n",
    "for val in value_list:      \n",
    "    df_kopia[df_kopia['Zawód/klasa']==val].loc[:,list_col].to_html('kopia/'+str(val)+'.html', index=False)\n",
    "    display(df_kopia[df_kopia['Zawód/klasa']==val].loc[:,list_col])    "
   ]
  },
  {
   "cell_type": "code",
   "execution_count": 102,
   "id": "d72e2dc4",
   "metadata": {},
   "outputs": [],
   "source": [
    "# %pip install isort"
   ]
  },
  {
   "cell_type": "markdown",
   "id": "f977b86f",
   "metadata": {},
   "source": [
    "<b><font size=\"+3\" color=\"red\">Wyszukiwanie</b>"
   ]
  },
  {
   "cell_type": "markdown",
   "id": "5e281473",
   "metadata": {},
   "source": [
    "### Wg nazwiska"
   ]
  },
  {
   "cell_type": "code",
   "execution_count": 103,
   "id": "27a90bef",
   "metadata": {},
   "outputs": [
    {
     "name": "stdout",
     "output_type": "stream",
     "text": [
      "Podaj nazwisko:An\n"
     ]
    },
    {
     "data": {
      "text/html": [
       "<div>\n",
       "<style scoped>\n",
       "    .dataframe tbody tr th:only-of-type {\n",
       "        vertical-align: middle;\n",
       "    }\n",
       "\n",
       "    .dataframe tbody tr th {\n",
       "        vertical-align: top;\n",
       "    }\n",
       "\n",
       "    .dataframe thead th {\n",
       "        text-align: right;\n",
       "    }\n",
       "</style>\n",
       "<table border=\"1\" class=\"dataframe\">\n",
       "  <thead>\n",
       "    <tr style=\"text-align: right;\">\n",
       "      <th></th>\n",
       "      <th>lp</th>\n",
       "      <th>Nazwisko</th>\n",
       "      <th>imie1</th>\n",
       "      <th>imie2</th>\n",
       "      <th>Pesel</th>\n",
       "      <th>Zawód/klasa</th>\n",
       "      <th>Oryginal</th>\n",
       "      <th>Internat</th>\n",
       "      <th>J.polski</th>\n",
       "      <th>Matematyka</th>\n",
       "      <th>...</th>\n",
       "      <th>biologia</th>\n",
       "      <th>informatyka</th>\n",
       "      <th>swiadectwo</th>\n",
       "      <th>Konkursy_ponad_woj</th>\n",
       "      <th>konk_miedzy_nar</th>\n",
       "      <th>konk_wojew</th>\n",
       "      <th>Konkursy_ponad_woj_1</th>\n",
       "      <th>wys_msc</th>\n",
       "      <th>aktyw_spol</th>\n",
       "      <th>pkt</th>\n",
       "    </tr>\n",
       "  </thead>\n",
       "  <tbody>\n",
       "    <tr>\n",
       "      <th>0</th>\n",
       "      <td>1</td>\n",
       "      <td>Andruszewski</td>\n",
       "      <td>Dawid</td>\n",
       "      <td>rrr</td>\n",
       "      <td>06292805679</td>\n",
       "      <td>TAK</td>\n",
       "      <td>oryginał</td>\n",
       "      <td>NIE</td>\n",
       "      <td>17.5</td>\n",
       "      <td>17.5</td>\n",
       "      <td>...</td>\n",
       "      <td>18.0</td>\n",
       "      <td>18.0</td>\n",
       "      <td>7</td>\n",
       "      <td>10.0</td>\n",
       "      <td>10.0</td>\n",
       "      <td>10.0</td>\n",
       "      <td>10.0</td>\n",
       "      <td>4.0</td>\n",
       "      <td>3.0</td>\n",
       "      <td>166.25</td>\n",
       "    </tr>\n",
       "  </tbody>\n",
       "</table>\n",
       "<p>1 rows × 23 columns</p>\n",
       "</div>"
      ],
      "text/plain": [
       "   lp      Nazwisko  imie1 imie2        Pesel Zawód/klasa  Oryginal Internat  \\\n",
       "0   1  Andruszewski  Dawid   rrr  06292805679         TAK  oryginał      NIE   \n",
       "\n",
       "   J.polski  Matematyka  ...  biologia  informatyka  swiadectwo  \\\n",
       "0      17.5        17.5  ...      18.0         18.0           7   \n",
       "\n",
       "   Konkursy_ponad_woj  konk_miedzy_nar  konk_wojew  Konkursy_ponad_woj_1  \\\n",
       "0                10.0             10.0        10.0                  10.0   \n",
       "\n",
       "   wys_msc  aktyw_spol     pkt  \n",
       "0      4.0         3.0  166.25  \n",
       "\n",
       "[1 rows x 23 columns]"
      ]
     },
     "execution_count": 103,
     "metadata": {},
     "output_type": "execute_result"
    }
   ],
   "source": [
    "nazwisko = input('Podaj nazwisko:').capitalize()\n",
    "df['Nazwisko'] =  df['Nazwisko'].str.capitalize()\n",
    "df[df['Nazwisko'].str.startswith(nazwisko, na=None)].valu"
   ]
  },
  {
   "cell_type": "code",
   "execution_count": null,
   "id": "5a4852ef",
   "metadata": {},
   "outputs": [],
   "source": []
  },
  {
   "cell_type": "markdown",
   "id": "6dff8625",
   "metadata": {},
   "source": [
    "## Wg pesel"
   ]
  },
  {
   "cell_type": "code",
   "execution_count": null,
   "id": "e46d57dc",
   "metadata": {},
   "outputs": [],
   "source": [
    "pesel = input('Podaj pesel:')"
   ]
  },
  {
   "cell_type": "code",
   "execution_count": null,
   "id": "78c52c02",
   "metadata": {},
   "outputs": [],
   "source": [
    "df[df['Pesel'].str.startswith(pesel, na=None)]"
   ]
  },
  {
   "cell_type": "code",
   "execution_count": null,
   "id": "ce95e72c",
   "metadata": {},
   "outputs": [],
   "source": [
    "# %pip install -U nbconvert==5.6.1 --user"
   ]
  },
  {
   "cell_type": "code",
   "execution_count": null,
   "id": "f94d3a78",
   "metadata": {},
   "outputs": [],
   "source": []
  }
 ],
 "metadata": {
  "celltoolbar": "Raw Cell Format",
  "kernelspec": {
   "display_name": "Python 3 (ipykernel)",
   "language": "python",
   "name": "python3"
  },
  "language_info": {
   "codemirror_mode": {
    "name": "ipython",
    "version": 3
   },
   "file_extension": ".py",
   "mimetype": "text/x-python",
   "name": "python",
   "nbconvert_exporter": "python",
   "pygments_lexer": "ipython3",
   "version": "3.9.13"
  }
 },
 "nbformat": 4,
 "nbformat_minor": 5
}
